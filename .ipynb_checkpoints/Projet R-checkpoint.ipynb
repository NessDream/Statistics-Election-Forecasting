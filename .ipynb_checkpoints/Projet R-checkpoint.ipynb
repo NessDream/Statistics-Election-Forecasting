{
 "cells": [
  {
   "cell_type": "markdown",
   "metadata": {},
   "source": [
    "# Projet Elections"
   ]
  },
  {
   "cell_type": "markdown",
   "metadata": {},
   "source": [
    "On va d'abord essayer de construire un modèle pour prédire le vote global.  \n",
    "Ensuite on pourra essayer de prédire le résultat du collège électoral, qui détermine le vainqueur de l'élection générale."
   ]
  },
  {
   "cell_type": "code",
   "execution_count": 1,
   "metadata": {},
   "outputs": [
    {
     "name": "stderr",
     "output_type": "stream",
     "text": [
      "Registered S3 methods overwritten by 'ggplot2':\n",
      "  method         from \n",
      "  [.quosures     rlang\n",
      "  c.quosures     rlang\n",
      "  print.quosures rlang\n",
      "Registered S3 method overwritten by 'rvest':\n",
      "  method            from\n",
      "  read_xml.response xml2\n",
      "-- Attaching packages --------------------------------------- tidyverse 1.2.1 --\n",
      "v ggplot2 3.1.1       v purrr   0.3.2  \n",
      "v tibble  2.1.1       v dplyr   0.8.0.1\n",
      "v tidyr   0.8.3       v stringr 1.4.0  \n",
      "v readr   1.3.1       v forcats 0.4.0  \n",
      "-- Conflicts ------------------------------------------ tidyverse_conflicts() --\n",
      "x dplyr::filter() masks stats::filter()\n",
      "x dplyr::lag()    masks stats::lag()\n",
      "Warning message:\n",
      "\"package 'dslabs' was built under R version 3.6.2\"Warning message:\n",
      "\"package 'gridExtra' was built under R version 3.6.2\"\n",
      "Attaching package: 'gridExtra'\n",
      "\n",
      "The following object is masked from 'package:dplyr':\n",
      "\n",
      "    combine\n",
      "\n"
     ]
    }
   ],
   "source": [
    "library(tidyverse)\n",
    "library(dslabs)\n",
    "library(gridExtra)"
   ]
  },
  {
   "cell_type": "markdown",
   "metadata": {},
   "source": [
    "### Données"
   ]
  },
  {
   "cell_type": "code",
   "execution_count": 2,
   "metadata": {},
   "outputs": [],
   "source": [
    "data(polls_us_election_2016)"
   ]
  },
  {
   "cell_type": "code",
   "execution_count": 3,
   "metadata": {},
   "outputs": [
    {
     "data": {
      "text/html": [
       "<table>\n",
       "<thead><tr><th scope=col>state</th><th scope=col>startdate</th><th scope=col>enddate</th><th scope=col>pollster</th><th scope=col>grade</th><th scope=col>samplesize</th><th scope=col>population</th><th scope=col>rawpoll_clinton</th><th scope=col>rawpoll_trump</th><th scope=col>rawpoll_johnson</th><th scope=col>rawpoll_mcmullin</th><th scope=col>adjpoll_clinton</th><th scope=col>adjpoll_trump</th><th scope=col>adjpoll_johnson</th><th scope=col>adjpoll_mcmullin</th></tr></thead>\n",
       "<tbody>\n",
       "\t<tr><td>U.S.                    </td><td>2016-11-03              </td><td>2016-11-06              </td><td>ABC News/Washington Post</td><td>A+                      </td><td> 2220                   </td><td>lv                      </td><td>47.00                   </td><td>43.00                   </td><td>4.00                    </td><td>NA                      </td><td>45.20163                </td><td>41.72430                </td><td>4.626221                </td><td>NA                      </td></tr>\n",
       "\t<tr><td>U.S.                    </td><td>2016-11-01              </td><td>2016-11-07              </td><td>Google Consumer Surveys </td><td>B                       </td><td>26574                   </td><td>lv                      </td><td>38.03                   </td><td>35.69                   </td><td>5.46                    </td><td>NA                      </td><td>43.34557                </td><td>41.21439                </td><td>5.175792                </td><td>NA                      </td></tr>\n",
       "\t<tr><td>U.S.                    </td><td>2016-11-02              </td><td>2016-11-06              </td><td>Ipsos                   </td><td>A-                      </td><td> 2195                   </td><td>lv                      </td><td>42.00                   </td><td>39.00                   </td><td>6.00                    </td><td>NA                      </td><td>42.02638                </td><td>38.81620                </td><td>6.844734                </td><td>NA                      </td></tr>\n",
       "</tbody>\n",
       "</table>\n"
      ],
      "text/latex": [
       "\\begin{tabular}{r|lllllllllllllll}\n",
       " state & startdate & enddate & pollster & grade & samplesize & population & rawpoll\\_clinton & rawpoll\\_trump & rawpoll\\_johnson & rawpoll\\_mcmullin & adjpoll\\_clinton & adjpoll\\_trump & adjpoll\\_johnson & adjpoll\\_mcmullin\\\\\n",
       "\\hline\n",
       "\t U.S.                     & 2016-11-03               & 2016-11-06               & ABC News/Washington Post & A+                       &  2220                    & lv                       & 47.00                    & 43.00                    & 4.00                     & NA                       & 45.20163                 & 41.72430                 & 4.626221                 & NA                      \\\\\n",
       "\t U.S.                     & 2016-11-01               & 2016-11-07               & Google Consumer Surveys  & B                        & 26574                    & lv                       & 38.03                    & 35.69                    & 5.46                     & NA                       & 43.34557                 & 41.21439                 & 5.175792                 & NA                      \\\\\n",
       "\t U.S.                     & 2016-11-02               & 2016-11-06               & Ipsos                    & A-                       &  2195                    & lv                       & 42.00                    & 39.00                    & 6.00                     & NA                       & 42.02638                 & 38.81620                 & 6.844734                 & NA                      \\\\\n",
       "\\end{tabular}\n"
      ],
      "text/markdown": [
       "\n",
       "| state | startdate | enddate | pollster | grade | samplesize | population | rawpoll_clinton | rawpoll_trump | rawpoll_johnson | rawpoll_mcmullin | adjpoll_clinton | adjpoll_trump | adjpoll_johnson | adjpoll_mcmullin |\n",
       "|---|---|---|---|---|---|---|---|---|---|---|---|---|---|---|\n",
       "| U.S.                     | 2016-11-03               | 2016-11-06               | ABC News/Washington Post | A+                       |  2220                    | lv                       | 47.00                    | 43.00                    | 4.00                     | NA                       | 45.20163                 | 41.72430                 | 4.626221                 | NA                       |\n",
       "| U.S.                     | 2016-11-01               | 2016-11-07               | Google Consumer Surveys  | B                        | 26574                    | lv                       | 38.03                    | 35.69                    | 5.46                     | NA                       | 43.34557                 | 41.21439                 | 5.175792                 | NA                       |\n",
       "| U.S.                     | 2016-11-02               | 2016-11-06               | Ipsos                    | A-                       |  2195                    | lv                       | 42.00                    | 39.00                    | 6.00                     | NA                       | 42.02638                 | 38.81620                 | 6.844734                 | NA                       |\n",
       "\n"
      ],
      "text/plain": [
       "  state startdate  enddate    pollster                 grade samplesize\n",
       "1 U.S.  2016-11-03 2016-11-06 ABC News/Washington Post A+     2220     \n",
       "2 U.S.  2016-11-01 2016-11-07 Google Consumer Surveys  B     26574     \n",
       "3 U.S.  2016-11-02 2016-11-06 Ipsos                    A-     2195     \n",
       "  population rawpoll_clinton rawpoll_trump rawpoll_johnson rawpoll_mcmullin\n",
       "1 lv         47.00           43.00         4.00            NA              \n",
       "2 lv         38.03           35.69         5.46            NA              \n",
       "3 lv         42.00           39.00         6.00            NA              \n",
       "  adjpoll_clinton adjpoll_trump adjpoll_johnson adjpoll_mcmullin\n",
       "1 45.20163        41.72430      4.626221        NA              \n",
       "2 43.34557        41.21439      5.175792        NA              \n",
       "3 42.02638        38.81620      6.844734        NA              "
      ]
     },
     "metadata": {},
     "output_type": "display_data"
    }
   ],
   "source": [
    "head(polls_us_election_2016, n=3)"
   ]
  },
  {
   "cell_type": "markdown",
   "metadata": {},
   "source": [
    "On ne garde que les sondages sur le pays en entier :"
   ]
  },
  {
   "cell_type": "code",
   "execution_count": 4,
   "metadata": {},
   "outputs": [],
   "source": [
    "polls = filter(polls_us_election_2016, state == \"U.S.\")"
   ]
  },
  {
   "cell_type": "markdown",
   "metadata": {},
   "source": [
    "On remarque que certains sondages sont jugés par les auteurs du dataset comme moins précis ou fiable que les autres, ayant une note plus faible. On les retire."
   ]
  },
  {
   "cell_type": "code",
   "execution_count": 5,
   "metadata": {},
   "outputs": [],
   "source": [
    "polls = filter(polls, grade %in% c(\"A+\",\"A\",\"A-\",\"B+\") | is.na(grade))"
   ]
  },
  {
   "cell_type": "markdown",
   "metadata": {},
   "source": [
    "De même on ne garde pas les sondages trop vieux, l'élection ayant lieu le 08.11.2016"
   ]
  },
  {
   "cell_type": "code",
   "execution_count": 6,
   "metadata": {},
   "outputs": [],
   "source": [
    "polls = filter(polls, enddate >= \"2016-10-31\")"
   ]
  },
  {
   "cell_type": "code",
   "execution_count": 7,
   "metadata": {},
   "outputs": [
    {
     "data": {
      "text/html": [
       "49"
      ],
      "text/latex": [
       "49"
      ],
      "text/markdown": [
       "49"
      ],
      "text/plain": [
       "[1] 49"
      ]
     },
     "metadata": {},
     "output_type": "display_data"
    }
   ],
   "source": [
    "nrow(polls)"
   ]
  },
  {
   "cell_type": "markdown",
   "metadata": {},
   "source": [
    "On crée une nouvelle variable qu'on appelle spread, l'écart entre clinton et trump.  \n",
    "Cette variable est comprise entre 1 (Clinton à 100% des votes) et -1 (Trump à 100%)"
   ]
  },
  {
   "cell_type": "code",
   "execution_count": 8,
   "metadata": {},
   "outputs": [
    {
     "data": {
      "text/html": [
       "<table>\n",
       "<thead><tr><th scope=col>state</th><th scope=col>startdate</th><th scope=col>enddate</th><th scope=col>pollster</th><th scope=col>grade</th><th scope=col>samplesize</th><th scope=col>population</th><th scope=col>rawpoll_clinton</th><th scope=col>rawpoll_trump</th><th scope=col>rawpoll_johnson</th><th scope=col>rawpoll_mcmullin</th><th scope=col>adjpoll_clinton</th><th scope=col>adjpoll_trump</th><th scope=col>adjpoll_johnson</th><th scope=col>adjpoll_mcmullin</th><th scope=col>spread</th></tr></thead>\n",
       "<tbody>\n",
       "\t<tr><td>U.S.                                                      </td><td>2016-11-03                                                </td><td>2016-11-06                                                </td><td>ABC News/Washington Post                                  </td><td>A+                                                        </td><td>2220                                                      </td><td>lv                                                        </td><td>47                                                        </td><td>43                                                        </td><td>4                                                         </td><td>NA                                                        </td><td>45.20163                                                  </td><td>41.72430                                                  </td><td>4.626221                                                  </td><td>NA                                                        </td><td>0.04                                                      </td></tr>\n",
       "\t<tr><td>U.S.                                                      </td><td>2016-11-02                                                </td><td>2016-11-06                                                </td><td>Ipsos                                                     </td><td>A-                                                        </td><td>2195                                                      </td><td>lv                                                        </td><td>42                                                        </td><td>39                                                        </td><td>6                                                         </td><td>NA                                                        </td><td>42.02638                                                  </td><td>38.81620                                                  </td><td>6.844734                                                  </td><td>NA                                                        </td><td>0.03                                                      </td></tr>\n",
       "\t<tr><td>U.S.                                                          </td><td>2016-11-03                                                    </td><td>2016-11-06                                                    </td><td>Fox News/Anderson Robbins Research/Shaw &amp; Company Research</td><td>A                                                             </td><td>1295                                                          </td><td>lv                                                            </td><td>48                                                            </td><td>44                                                            </td><td>3                                                             </td><td>NA                                                            </td><td>49.02208                                                      </td><td>43.95631                                                      </td><td>3.057876                                                      </td><td>NA                                                            </td><td>0.04                                                          </td></tr>\n",
       "</tbody>\n",
       "</table>\n"
      ],
      "text/latex": [
       "\\begin{tabular}{r|llllllllllllllll}\n",
       " state & startdate & enddate & pollster & grade & samplesize & population & rawpoll\\_clinton & rawpoll\\_trump & rawpoll\\_johnson & rawpoll\\_mcmullin & adjpoll\\_clinton & adjpoll\\_trump & adjpoll\\_johnson & adjpoll\\_mcmullin & spread\\\\\n",
       "\\hline\n",
       "\t U.S.                                                       & 2016-11-03                                                 & 2016-11-06                                                 & ABC News/Washington Post                                   & A+                                                         & 2220                                                       & lv                                                         & 47                                                         & 43                                                         & 4                                                          & NA                                                         & 45.20163                                                   & 41.72430                                                   & 4.626221                                                   & NA                                                         & 0.04                                                      \\\\\n",
       "\t U.S.                                                       & 2016-11-02                                                 & 2016-11-06                                                 & Ipsos                                                      & A-                                                         & 2195                                                       & lv                                                         & 42                                                         & 39                                                         & 6                                                          & NA                                                         & 42.02638                                                   & 38.81620                                                   & 6.844734                                                   & NA                                                         & 0.03                                                      \\\\\n",
       "\t U.S.                                                         & 2016-11-03                                                   & 2016-11-06                                                   & Fox News/Anderson Robbins Research/Shaw \\& Company Research & A                                                            & 1295                                                         & lv                                                           & 48                                                           & 44                                                           & 3                                                            & NA                                                           & 49.02208                                                     & 43.95631                                                     & 3.057876                                                     & NA                                                           & 0.04                                                        \\\\\n",
       "\\end{tabular}\n"
      ],
      "text/markdown": [
       "\n",
       "| state | startdate | enddate | pollster | grade | samplesize | population | rawpoll_clinton | rawpoll_trump | rawpoll_johnson | rawpoll_mcmullin | adjpoll_clinton | adjpoll_trump | adjpoll_johnson | adjpoll_mcmullin | spread |\n",
       "|---|---|---|---|---|---|---|---|---|---|---|---|---|---|---|---|\n",
       "| U.S.                                                       | 2016-11-03                                                 | 2016-11-06                                                 | ABC News/Washington Post                                   | A+                                                         | 2220                                                       | lv                                                         | 47                                                         | 43                                                         | 4                                                          | NA                                                         | 45.20163                                                   | 41.72430                                                   | 4.626221                                                   | NA                                                         | 0.04                                                       |\n",
       "| U.S.                                                       | 2016-11-02                                                 | 2016-11-06                                                 | Ipsos                                                      | A-                                                         | 2195                                                       | lv                                                         | 42                                                         | 39                                                         | 6                                                          | NA                                                         | 42.02638                                                   | 38.81620                                                   | 6.844734                                                   | NA                                                         | 0.03                                                       |\n",
       "| U.S.                                                       | 2016-11-03                                                 | 2016-11-06                                                 | Fox News/Anderson Robbins Research/Shaw & Company Research | A                                                          | 1295                                                       | lv                                                         | 48                                                         | 44                                                         | 3                                                          | NA                                                         | 49.02208                                                   | 43.95631                                                   | 3.057876                                                   | NA                                                         | 0.04                                                       |\n",
       "\n"
      ],
      "text/plain": [
       "  state startdate  enddate   \n",
       "1 U.S.  2016-11-03 2016-11-06\n",
       "2 U.S.  2016-11-02 2016-11-06\n",
       "3 U.S.  2016-11-03 2016-11-06\n",
       "  pollster                                                   grade samplesize\n",
       "1 ABC News/Washington Post                                   A+    2220      \n",
       "2 Ipsos                                                      A-    2195      \n",
       "3 Fox News/Anderson Robbins Research/Shaw & Company Research A     1295      \n",
       "  population rawpoll_clinton rawpoll_trump rawpoll_johnson rawpoll_mcmullin\n",
       "1 lv         47              43            4               NA              \n",
       "2 lv         42              39            6               NA              \n",
       "3 lv         48              44            3               NA              \n",
       "  adjpoll_clinton adjpoll_trump adjpoll_johnson adjpoll_mcmullin spread\n",
       "1 45.20163        41.72430      4.626221        NA               0.04  \n",
       "2 42.02638        38.81620      6.844734        NA               0.03  \n",
       "3 49.02208        43.95631      3.057876        NA               0.04  "
      ]
     },
     "metadata": {},
     "output_type": "display_data"
    }
   ],
   "source": [
    "polls = mutate(polls, spread = rawpoll_clinton/100 - rawpoll_trump/100)\n",
    "head(polls, n=3)"
   ]
  },
  {
   "cell_type": "markdown",
   "metadata": {},
   "source": [
    "### Biais des Organismes de sondages :"
   ]
  },
  {
   "cell_type": "markdown",
   "metadata": {},
   "source": [
    "On voit clairement que certains organismes de sondage sont orientés pour un candidat ou un autre. Il faut prendre en compte ce phénomène pour la suite.  \n",
    "En effet, certains organismes ont fait plus de sondages que d'autres et donc leur orientation aura plus de poids dans le modèle final, ce que nous devons éviter."
   ]
  },
  {
   "cell_type": "code",
   "execution_count": 9,
   "metadata": {},
   "outputs": [
    {
     "data": {
      "image/png": "[encoded data removed]",
      "text/plain": [
       "plot without title"
      ]
     },
     "metadata": {},
     "output_type": "display_data"
    }
   ],
   "source": [
    "ggplot(polls, aes(x=spread, y=pollster)) +\n",
    "    geom_point()"
   ]
  },
  {
   "cell_type": "markdown",
   "metadata": {},
   "source": [
    "# Vote public :"
   ]
  },
  {
   "cell_type": "markdown",
   "metadata": {},
   "source": [
    "#### Modèle simple :"
   ]
  },
  {
   "cell_type": "markdown",
   "metadata": {},
   "source": [
    "Pour éviter le biais des organismes et une prépondérance de ceux qui ont fait plus de sondages que les autres, on ne considère pour chacun que le dernier sondage, le plus récent par rapport à la date de l'élection "
   ]
  },
  {
   "cell_type": "code",
   "execution_count": 10,
   "metadata": {},
   "outputs": [
    {
     "data": {
      "text/html": [
       "<table>\n",
       "<thead><tr><th scope=col>state</th><th scope=col>startdate</th><th scope=col>enddate</th><th scope=col>pollster</th><th scope=col>grade</th><th scope=col>samplesize</th><th scope=col>population</th><th scope=col>rawpoll_clinton</th><th scope=col>rawpoll_trump</th><th scope=col>rawpoll_johnson</th><th scope=col>rawpoll_mcmullin</th><th scope=col>adjpoll_clinton</th><th scope=col>adjpoll_trump</th><th scope=col>adjpoll_johnson</th><th scope=col>adjpoll_mcmullin</th><th scope=col>spread</th></tr></thead>\n",
       "<tbody>\n",
       "\t<tr><td>U.S.                                                      </td><td>2016-11-03                                                </td><td>2016-11-06                                                </td><td>ABC News/Washington Post                                  </td><td>A+                                                        </td><td>2220                                                      </td><td>lv                                                        </td><td>47                                                        </td><td>43                                                        </td><td>4                                                         </td><td>NA                                                        </td><td>45.20163                                                  </td><td>41.72430                                                  </td><td>4.626221                                                  </td><td>NA                                                        </td><td>0.04                                                      </td></tr>\n",
       "\t<tr><td>U.S.                                                      </td><td>2016-11-02                                                </td><td>2016-11-06                                                </td><td>Ipsos                                                     </td><td>A-                                                        </td><td>2195                                                      </td><td>lv                                                        </td><td>42                                                        </td><td>39                                                        </td><td>6                                                         </td><td>NA                                                        </td><td>42.02638                                                  </td><td>38.81620                                                  </td><td>6.844734                                                  </td><td>NA                                                        </td><td>0.03                                                      </td></tr>\n",
       "\t<tr><td>U.S.                                                          </td><td>2016-11-03                                                    </td><td>2016-11-06                                                    </td><td>Fox News/Anderson Robbins Research/Shaw &amp; Company Research</td><td>A                                                             </td><td>1295                                                          </td><td>lv                                                            </td><td>48                                                            </td><td>44                                                            </td><td>3                                                             </td><td>NA                                                            </td><td>49.02208                                                      </td><td>43.95631                                                      </td><td>3.057876                                                      </td><td>NA                                                            </td><td>0.04                                                          </td></tr>\n",
       "</tbody>\n",
       "</table>\n"
      ],
      "text/latex": [
       "\\begin{tabular}{r|llllllllllllllll}\n",
       " state & startdate & enddate & pollster & grade & samplesize & population & rawpoll\\_clinton & rawpoll\\_trump & rawpoll\\_johnson & rawpoll\\_mcmullin & adjpoll\\_clinton & adjpoll\\_trump & adjpoll\\_johnson & adjpoll\\_mcmullin & spread\\\\\n",
       "\\hline\n",
       "\t U.S.                                                       & 2016-11-03                                                 & 2016-11-06                                                 & ABC News/Washington Post                                   & A+                                                         & 2220                                                       & lv                                                         & 47                                                         & 43                                                         & 4                                                          & NA                                                         & 45.20163                                                   & 41.72430                                                   & 4.626221                                                   & NA                                                         & 0.04                                                      \\\\\n",
       "\t U.S.                                                       & 2016-11-02                                                 & 2016-11-06                                                 & Ipsos                                                      & A-                                                         & 2195                                                       & lv                                                         & 42                                                         & 39                                                         & 6                                                          & NA                                                         & 42.02638                                                   & 38.81620                                                   & 6.844734                                                   & NA                                                         & 0.03                                                      \\\\\n",
       "\t U.S.                                                         & 2016-11-03                                                   & 2016-11-06                                                   & Fox News/Anderson Robbins Research/Shaw \\& Company Research & A                                                            & 1295                                                         & lv                                                           & 48                                                           & 44                                                           & 3                                                            & NA                                                           & 49.02208                                                     & 43.95631                                                     & 3.057876                                                     & NA                                                           & 0.04                                                        \\\\\n",
       "\\end{tabular}\n"
      ],
      "text/markdown": [
       "\n",
       "| state | startdate | enddate | pollster | grade | samplesize | population | rawpoll_clinton | rawpoll_trump | rawpoll_johnson | rawpoll_mcmullin | adjpoll_clinton | adjpoll_trump | adjpoll_johnson | adjpoll_mcmullin | spread |\n",
       "|---|---|---|---|---|---|---|---|---|---|---|---|---|---|---|---|\n",
       "| U.S.                                                       | 2016-11-03                                                 | 2016-11-06                                                 | ABC News/Washington Post                                   | A+                                                         | 2220                                                       | lv                                                         | 47                                                         | 43                                                         | 4                                                          | NA                                                         | 45.20163                                                   | 41.72430                                                   | 4.626221                                                   | NA                                                         | 0.04                                                       |\n",
       "| U.S.                                                       | 2016-11-02                                                 | 2016-11-06                                                 | Ipsos                                                      | A-                                                         | 2195                                                       | lv                                                         | 42                                                         | 39                                                         | 6                                                          | NA                                                         | 42.02638                                                   | 38.81620                                                   | 6.844734                                                   | NA                                                         | 0.03                                                       |\n",
       "| U.S.                                                       | 2016-11-03                                                 | 2016-11-06                                                 | Fox News/Anderson Robbins Research/Shaw & Company Research | A                                                          | 1295                                                       | lv                                                         | 48                                                         | 44                                                         | 3                                                          | NA                                                         | 49.02208                                                   | 43.95631                                                   | 3.057876                                                   | NA                                                         | 0.04                                                       |\n",
       "\n"
      ],
      "text/plain": [
       "  state startdate  enddate   \n",
       "1 U.S.  2016-11-03 2016-11-06\n",
       "2 U.S.  2016-11-02 2016-11-06\n",
       "3 U.S.  2016-11-03 2016-11-06\n",
       "  pollster                                                   grade samplesize\n",
       "1 ABC News/Washington Post                                   A+    2220      \n",
       "2 Ipsos                                                      A-    2195      \n",
       "3 Fox News/Anderson Robbins Research/Shaw & Company Research A     1295      \n",
       "  population rawpoll_clinton rawpoll_trump rawpoll_johnson rawpoll_mcmullin\n",
       "1 lv         47              43            4               NA              \n",
       "2 lv         42              39            6               NA              \n",
       "3 lv         48              44            3               NA              \n",
       "  adjpoll_clinton adjpoll_trump adjpoll_johnson adjpoll_mcmullin spread\n",
       "1 45.20163        41.72430      4.626221        NA               0.04  \n",
       "2 42.02638        38.81620      6.844734        NA               0.03  \n",
       "3 49.02208        43.95631      3.057876        NA               0.04  "
      ]
     },
     "metadata": {},
     "output_type": "display_data"
    }
   ],
   "source": [
    "unique_poll = group_by(polls, pollster)\n",
    "unique_poll = filter(unique_poll, enddate == max(enddate)) #On garde le dernier sondage\n",
    "unique_poll = ungroup(unique_poll)\n",
    "head(unique_poll, n=3)"
   ]
  },
  {
   "cell_type": "markdown",
   "metadata": {},
   "source": [
    "Moyenne de l'écart : \n",
    "$$\\mu_{sondages} = \\mu_{données}$$"
   ]
  },
  {
   "cell_type": "code",
   "execution_count": 11,
   "metadata": {},
   "outputs": [
    {
     "data": {
      "text/html": [
       "0.02898"
      ],
      "text/latex": [
       "0.02898"
      ],
      "text/markdown": [
       "0.02898"
      ],
      "text/plain": [
       "[1] 0.02898"
      ]
     },
     "metadata": {},
     "output_type": "display_data"
    }
   ],
   "source": [
    "mu_sondages = mean(unique_poll$spread)\n",
    "mu_sondages"
   ]
  },
  {
   "cell_type": "markdown",
   "metadata": {},
   "source": [
    "Si on considère que 15 sondages sont suffisant pour appliquer la loi des grands nombres et le Théorème central limite, on a par approximation en loi normale :"
   ]
  },
  {
   "cell_type": "markdown",
   "metadata": {},
   "source": [
    "On calcule l'écart-type :\n",
    "$$\\sigma_{sondages} = \\frac{ \\sigma_{données} }{ \\sqrt{N} }$$"
   ]
  },
  {
   "cell_type": "code",
   "execution_count": 12,
   "metadata": {},
   "outputs": [
    {
     "data": {
      "text/html": [
       "0.00624678355331004"
      ],
      "text/latex": [
       "0.00624678355331004"
      ],
      "text/markdown": [
       "0.00624678355331004"
      ],
      "text/plain": [
       "[1] 0.006246784"
      ]
     },
     "metadata": {},
     "output_type": "display_data"
    }
   ],
   "source": [
    "sigma_sondages = sd(unique_poll$spread)/sqrt(nrow(unique_poll))\n",
    "sigma_sondages"
   ]
  },
  {
   "cell_type": "code",
   "execution_count": 13,
   "metadata": {},
   "outputs": [
    {
     "data": {
      "text/html": [
       "<ol class=list-inline>\n",
       "\t<li>0.0167363042355123</li>\n",
       "\t<li>0.02898</li>\n",
       "\t<li>0.0412236957644877</li>\n",
       "</ol>\n"
      ],
      "text/latex": [
       "\\begin{enumerate*}\n",
       "\\item 0.0167363042355123\n",
       "\\item 0.02898\n",
       "\\item 0.0412236957644877\n",
       "\\end{enumerate*}\n"
      ],
      "text/markdown": [
       "1. 0.0167363042355123\n",
       "2. 0.02898\n",
       "3. 0.0412236957644877\n",
       "\n",
       "\n"
      ],
      "text/plain": [
       "[1] 0.0167363 0.0289800 0.0412237"
      ]
     },
     "metadata": {},
     "output_type": "display_data"
    }
   ],
   "source": [
    "mu_sondages + 1.96*sigma_sondages*c(-1,0,1)"
   ]
  },
  {
   "cell_type": "markdown",
   "metadata": {},
   "source": [
    "Le 0 est exclu de l'intervalle de confiance à 95%.  \n",
    "Le résultat de ce premier modèle simple d'aggrégation des sondages est donc une victoire de Clinton avec $\\mu_{sondages}$ à presque 3% d'écart avec Trump, et $\\sigma_{sondages}$ suffisamment faible pour affirmer cette victoire avec une grand probabilité.\n"
   ]
  },
  {
   "cell_type": "markdown",
   "metadata": {},
   "source": [
    "### Modélisation"
   ]
  },
  {
   "cell_type": "markdown",
   "metadata": {},
   "source": [
    "Le modèle adopté est :  \n",
    "\n",
    "$$ X_{i,j} = d + B + b_i + \\epsilon_{i,j} $$  \n",
    "  \n",
    "Avec :  \n",
    "- $X_{i,j}$ : le résultat du sondage j effectué par l'organisme i\n",
    "- $d$ : le spread final le jour de l'élection\n",
    "- $B$ : le biais global, commun à tous les sondages, pour l'élection considérée.  \n",
    "Modélisé par une loi normale :\n",
    "$$ B \\sim \\mathcal{N}\\big(\\mu_B=0, \\sigma_B = 0.025\\big) $$\n",
    "Où  $\\mu_B$ et $\\sigma_B$ ont étés fixés après étude des élections précédentes et de leurs sondages préalables.\n",
    "- $b_i$ : le biais de l'organisme i.  \n",
    "Modélisé par une loi normale :\n",
    "$$ b_i \\sim \\mathcal{N}\\big(\\mu_{b_i}=0, \\sigma_{b_i} = 0.025\\big) $$\n",
    "\n",
    "- $\\epsilon_{i,j}$ : biais du sondage j de l'organisme i.  \n",
    "Modélisé également par une loi normale :\n",
    "$$ \\epsilon_{i,j} \\sim \\mathcal{N}\\bigg( \\mu_{\\epsilon_{i,j}}=0, \\sigma_{\\epsilon_{i,j}} = \\sqrt{\\frac{p(1-p)}{N}} \\bigg)$$\n"
   ]
  },
  {
   "cell_type": "markdown",
   "metadata": {},
   "source": [
    "Avec ce modèle statistique, on a :\n",
    "\n",
    "$$ \\bar{X} = d + B + \\frac{1}{N}\\displaystyle\\sum_{i=1}^{N} X_i $$\n",
    "Et l'écart-type de $\\bar{X}$ est :\n",
    "$$ \\sigma_\\bar{X} ² = \\sqrt{\\frac{\\sigma²}{N} + \\sigma_B²} $$\n",
    "\n",
    "On remarque que $\\sigma_B²$ n'est pas dépendant du nombre d'observations. Même avec un grand nombre de sondages, on a toujours un certain biais général $B$ propre à l'élection, et ainsi $\\sigma_\\bar{X} ²$ ne converge pas vers 0."
   ]
  },
  {
   "cell_type": "markdown",
   "metadata": {},
   "source": [
    "On vérifie que ce modèle corresponde aux données qu'on a, par une simulation de Monte Carlo :"
   ]
  },
  {
   "cell_type": "code",
   "execution_count": 14,
   "metadata": {},
   "outputs": [],
   "source": [
    "I = 7 #Nombre d'organismes de sondages\n",
    "J = 5 #Nombre de sondages par organisme\n",
    "N = 2000\n",
    "d = .029\n",
    "B = rnorm(1, 0, 0.025)\n",
    "p = (d+1)/2 #pour remettre au format [0, 1]\n",
    "b = rnorm(I, 0, 0.025)\n",
    "X = sapply(1:I, function(i){\n",
    "  d + B + b[i] + rnorm(J, 0, 2 * sqrt(p*(1-p)/N))\n",
    "})"
   ]
  },
  {
   "cell_type": "code",
   "execution_count": 15,
   "metadata": {},
   "outputs": [],
   "source": [
    "names = rep(1:I, each=J)\n",
    "sim_data = data.frame(group=names, spread=c(X))"
   ]
  },
  {
   "cell_type": "code",
   "execution_count": 16,
   "metadata": {
    "scrolled": true
   },
   "outputs": [
    {
     "data": {
      "image/png": "[encoded data removed]",
      "text/plain": [
       "plot without title"
      ]
     },
     "metadata": {},
     "output_type": "display_data"
    }
   ],
   "source": [
    "\n",
    "p1 = ggplot(data = sim_data, aes(x=spread, y=group))+ geom_point() + ggtitle(\"Simulation\")\n",
    "p2 = ggplot(polls, aes(x=spread, y=pollster)) + geom_point() + ggtitle(\"Données de sondages\")\n",
    "grid.arrange(p1, p2, nrow=2)"
   ]
  },
  {
   "cell_type": "markdown",
   "metadata": {},
   "source": [
    "Notre simulation semble bien correspondre aux données, donc on valide le modèle adopté."
   ]
  },
  {
   "cell_type": "markdown",
   "metadata": {},
   "source": [
    "#### Prédiction en utilisant le paradigme Bayésien"
   ]
  },
  {
   "cell_type": "markdown",
   "metadata": {},
   "source": [
    "On utilise le modèle du dessus pour notre prédiction de résultat.   \n",
    "Pour les estimations des paramètres $\\mu$ et $\\sigma²$ de l'élection, on utlise les résultats du premier modèle :"
   ]
  },
  {
   "cell_type": "code",
   "execution_count": 17,
   "metadata": {},
   "outputs": [
    {
     "data": {
      "text/html": [
       "0.02898"
      ],
      "text/latex": [
       "0.02898"
      ],
      "text/markdown": [
       "0.02898"
      ],
      "text/plain": [
       "[1] 0.02898"
      ]
     },
     "metadata": {},
     "output_type": "display_data"
    }
   ],
   "source": [
    "mu_sondages"
   ]
  },
  {
   "cell_type": "code",
   "execution_count": 18,
   "metadata": {},
   "outputs": [
    {
     "data": {
      "text/html": [
       "0.00624678355331004"
      ],
      "text/latex": [
       "0.00624678355331004"
      ],
      "text/markdown": [
       "0.00624678355331004"
      ],
      "text/plain": [
       "[1] 0.006246784"
      ]
     },
     "metadata": {},
     "output_type": "display_data"
    }
   ],
   "source": [
    "sigma_sondages"
   ]
  },
  {
   "cell_type": "markdown",
   "metadata": {},
   "source": [
    "On cherche une estimation de d, le spread au jour de l'élection.   \n",
    "On va utiliser une méthode bayésienne pour prendre en compte les résulats habituels aux élections présidentielles.\n",
    "- Avec nos connaissances générales sur les résultats courants, on peut construire la loi a priori suivante, concernant l'écart $d$ de résultat démocrate-républicain :\n",
    "$$ d_{prior} \\sim \\mathcal{N}(\\mu_{prior}, \\sigma_{prior}²) $$\n",
    "    - Comme on ne connait pas le résultat de l'élection clairement, on pose $\\mu_{prior} = 0$  \n",
    "    - Pour l'écart-type, on choisit $\\sigma_{prior} = 0.035$ soit 3.5% car c'est l'écart habituel entre deux candidats à la présidentielle américaine.\n",
    "  \n",
    "- On réactualise nos données de sondage du début (où l'on a calculé la moyenne $\\mu_{sondages}$ et l'écart-type $\\sigma_{sondages}$ prévus) dans notre nouveau modèle qui comporte le biais global de tous les sondages.\n",
    "\n",
    "    On a donc :  \n",
    "$$\\mu_{modèle} = \\mu_{sondages} $$\n",
    "$$\\sigma_{modèle} = \\sqrt{\\sigma_{sondages}² + \\sigma_B²}$$\n",
    "  \n",
    "- On calcule ensuite la loi a posteriori de l'écart $d$.  \n",
    "    En effet, comme les lois de l'a priori et des données modélisées suivent une loi normale, la loi a posteriori et la loi a priori sont conjuguées. La loi a posteriori est donc également une loi Normale, avec de nouveaux paramètres que l'on peut retrouver avec les paramètres de la likelihood et de l'a priori.\n",
    "$$ d_{posterior} \\sim \\mathcal{N}(\\mu_{posterior},\\sigma_{posterior}²) $$\n",
    "    En notant $ C = \\frac{\\sigma_{prior}²}{\\sigma_{modèle}² +\\sigma_{prior}²}$ ,  \n",
    "    On a :\n",
    "    $$ \\mu_{posterior} = C\\mu_{prior}   +  (1-C)\\mu_{modèle} $$ \n",
    "    \n",
    "    $$ \\sigma_{posterior}² = \\frac{1}{\\frac{1}{\\sigma_{modèle}}+\\frac{1}{\\sigma_{prior}²}}$$\n",
    "\n"
   ]
  },
  {
   "cell_type": "code",
   "execution_count": 19,
   "metadata": {},
   "outputs": [],
   "source": [
    "#Paramètres de l'a priori\n",
    "mu_prior = 0\n",
    "sigma_prior = 0.035\n",
    "\n",
    "#Paramètres des données, updatées par notre nouveau modèle (likelihood)\n",
    "sigma_B = 0.025\n",
    "sigma_modèle = sqrt(sigma_sondages^2 + sigma_B^2)\n",
    "Y = mu_sondages #Données des sondages, avec ajout du biais général\n",
    "\n",
    "#Paramètres posteriori\n",
    "C = sigma_modèle^2 / (sigma_modèle^2 + sigma_prior^2)\n",
    "mu_posterior = C*mu_prior + (1-C)*Y\n",
    "sigma_posterior = sqrt( 1/ (1/sigma_modèle^2 + 1/sigma_prior^2))"
   ]
  },
  {
   "cell_type": "code",
   "execution_count": 20,
   "metadata": {},
   "outputs": [
    {
     "data": {
      "text/html": [
       "<ol class=list-inline>\n",
       "\t<li>-0.0218790740634905</li>\n",
       "\t<li>0.0187930549631464</li>\n",
       "\t<li>0.0594651839897833</li>\n",
       "</ol>\n"
      ],
      "text/latex": [
       "\\begin{enumerate*}\n",
       "\\item -0.0218790740634905\n",
       "\\item 0.0187930549631464\n",
       "\\item 0.0594651839897833\n",
       "\\end{enumerate*}\n"
      ],
      "text/markdown": [
       "1. -0.0218790740634905\n",
       "2. 0.0187930549631464\n",
       "3. 0.0594651839897833\n",
       "\n",
       "\n"
      ],
      "text/plain": [
       "[1] -0.02187907  0.01879305  0.05946518"
      ]
     },
     "metadata": {},
     "output_type": "display_data"
    }
   ],
   "source": [
    "mu_posterior + 1.96*sigma_posterior*c(-1, 0, +1)"
   ]
  },
  {
   "cell_type": "markdown",
   "metadata": {},
   "source": [
    "Probabilité de Trump de gagner le vote populaire :"
   ]
  },
  {
   "cell_type": "code",
   "execution_count": 21,
   "metadata": {},
   "outputs": [
    {
     "data": {
      "text/html": [
       "0.182562688957232"
      ],
      "text/latex": [
       "0.182562688957232"
      ],
      "text/markdown": [
       "0.182562688957232"
      ],
      "text/plain": [
       "[1] 0.1825627"
      ]
     },
     "metadata": {},
     "output_type": "display_data"
    }
   ],
   "source": [
    "pnorm(0, mu_posterior, sigma_posterior)"
   ]
  },
  {
   "cell_type": "markdown",
   "metadata": {},
   "source": [
    "Grâce à l'introduction de notre a priori basé sur les observations précédentes, enrichies d'un modèle plus robuste, nous aboutissons à des résultats de prédictions plus proches de la réalité."
   ]
  },
  {
   "cell_type": "markdown",
   "metadata": {},
   "source": [
    "# Electoral College"
   ]
  },
  {
   "cell_type": "markdown",
   "metadata": {},
   "source": [
    "**Bla bla** les élections c'est pas le vote populaire mais les grands électeurs, et donc les états car win them all."
   ]
  },
  {
   "cell_type": "code",
   "execution_count": 22,
   "metadata": {},
   "outputs": [
    {
     "data": {
      "text/html": [
       "<table>\n",
       "<thead><tr><th scope=col>state</th><th scope=col>electoral_votes</th><th scope=col>clinton</th><th scope=col>trump</th><th scope=col>others</th></tr></thead>\n",
       "<tbody>\n",
       "\t<tr><td>California</td><td>55        </td><td>61.7      </td><td>31.6      </td><td>6.7       </td></tr>\n",
       "\t<tr><td>Texas     </td><td>38        </td><td>43.2      </td><td>52.2      </td><td>4.5       </td></tr>\n",
       "\t<tr><td>Florida   </td><td>29        </td><td>47.8      </td><td>49.0      </td><td>3.2       </td></tr>\n",
       "</tbody>\n",
       "</table>\n"
      ],
      "text/latex": [
       "\\begin{tabular}{r|lllll}\n",
       " state & electoral\\_votes & clinton & trump & others\\\\\n",
       "\\hline\n",
       "\t California & 55         & 61.7       & 31.6       & 6.7       \\\\\n",
       "\t Texas      & 38         & 43.2       & 52.2       & 4.5       \\\\\n",
       "\t Florida    & 29         & 47.8       & 49.0       & 3.2       \\\\\n",
       "\\end{tabular}\n"
      ],
      "text/markdown": [
       "\n",
       "| state | electoral_votes | clinton | trump | others |\n",
       "|---|---|---|---|---|\n",
       "| California | 55         | 61.7       | 31.6       | 6.7        |\n",
       "| Texas      | 38         | 43.2       | 52.2       | 4.5        |\n",
       "| Florida    | 29         | 47.8       | 49.0       | 3.2        |\n",
       "\n"
      ],
      "text/plain": [
       "  state      electoral_votes clinton trump others\n",
       "1 California 55              61.7    31.6  6.7   \n",
       "2 Texas      38              43.2    52.2  4.5   \n",
       "3 Florida    29              47.8    49.0  3.2   "
      ]
     },
     "metadata": {},
     "output_type": "display_data"
    }
   ],
   "source": [
    "head(arrange(results_us_election_2016, desc(electoral_votes)), n=3)"
   ]
  },
  {
   "cell_type": "code",
   "execution_count": 23,
   "metadata": {},
   "outputs": [
    {
     "data": {
      "text/html": [
       "<table>\n",
       "<thead><tr><th scope=col>state</th><th scope=col>electoral_votes</th><th scope=col>clinton</th><th scope=col>trump</th><th scope=col>others</th></tr></thead>\n",
       "<tbody>\n",
       "\t<tr><td>Alaska  </td><td>3       </td><td>36.6    </td><td>51.3    </td><td>12.2    </td></tr>\n",
       "\t<tr><td>Delaware</td><td>3       </td><td>53.4    </td><td>41.9    </td><td> 4.7    </td></tr>\n",
       "\t<tr><td>Montana </td><td>3       </td><td>35.9    </td><td>56.5    </td><td> 7.6    </td></tr>\n",
       "</tbody>\n",
       "</table>\n"
      ],
      "text/latex": [
       "\\begin{tabular}{r|lllll}\n",
       " state & electoral\\_votes & clinton & trump & others\\\\\n",
       "\\hline\n",
       "\t Alaska   & 3        & 36.6     & 51.3     & 12.2    \\\\\n",
       "\t Delaware & 3        & 53.4     & 41.9     &  4.7    \\\\\n",
       "\t Montana  & 3        & 35.9     & 56.5     &  7.6    \\\\\n",
       "\\end{tabular}\n"
      ],
      "text/markdown": [
       "\n",
       "| state | electoral_votes | clinton | trump | others |\n",
       "|---|---|---|---|---|\n",
       "| Alaska   | 3        | 36.6     | 51.3     | 12.2     |\n",
       "| Delaware | 3        | 53.4     | 41.9     |  4.7     |\n",
       "| Montana  | 3        | 35.9     | 56.5     |  7.6     |\n",
       "\n"
      ],
      "text/plain": [
       "  state    electoral_votes clinton trump others\n",
       "1 Alaska   3               36.6    51.3  12.2  \n",
       "2 Delaware 3               53.4    41.9   4.7  \n",
       "3 Montana  3               35.9    56.5   7.6  "
      ]
     },
     "metadata": {},
     "output_type": "display_data"
    }
   ],
   "source": [
    "head(arrange(results_us_election_2016, electoral_votes), n=3)"
   ]
  },
  {
   "cell_type": "markdown",
   "metadata": {},
   "source": [
    "Tous les états n'ont pas le même nombre de grands électeurs, en fonction de la taille de l'état.  \n",
    "Nous devons faire la même modélisation, mais état par état, afin de déterminer le nombre de grands électeurs pour chaque candidat, et déterminer le grand vainqueur de l'élection."
   ]
  },
  {
   "cell_type": "markdown",
   "metadata": {},
   "source": [
    "On a besoin de recharger (et retraiter) les données, pour ne garder fois-ci que les sondages sur les états :"
   ]
  },
  {
   "cell_type": "code",
   "execution_count": 24,
   "metadata": {},
   "outputs": [
    {
     "data": {
      "text/html": [
       "<ol class=list-inline>\n",
       "\t<li>U.S.</li>\n",
       "\t<li>New Mexico</li>\n",
       "\t<li>Virginia</li>\n",
       "\t<li>Iowa</li>\n",
       "\t<li>Wisconsin</li>\n",
       "\t<li>North Carolina</li>\n",
       "\t<li>Georgia</li>\n",
       "\t<li>Florida</li>\n",
       "\t<li>Oregon</li>\n",
       "\t<li>Ohio</li>\n",
       "\t<li>South Carolina</li>\n",
       "\t<li>New York</li>\n",
       "\t<li>Michigan</li>\n",
       "\t<li>Pennsylvania</li>\n",
       "\t<li>Missouri</li>\n",
       "\t<li>New Hampshire</li>\n",
       "\t<li>Arizona</li>\n",
       "\t<li>Nevada</li>\n",
       "\t<li>Colorado</li>\n",
       "\t<li>California</li>\n",
       "\t<li>Washington</li>\n",
       "\t<li>Texas</li>\n",
       "\t<li>Utah</li>\n",
       "\t<li>Illinois</li>\n",
       "\t<li>Indiana</li>\n",
       "\t<li>Tennessee</li>\n",
       "\t<li>Connecticut</li>\n",
       "\t<li>Massachusetts</li>\n",
       "\t<li>New Jersey</li>\n",
       "\t<li>Kansas</li>\n",
       "\t<li>Kentucky</li>\n",
       "\t<li>Minnesota</li>\n",
       "\t<li>Oklahoma</li>\n",
       "\t<li>Maryland</li>\n",
       "\t<li>Alabama</li>\n",
       "\t<li>Nebraska</li>\n",
       "\t<li>Louisiana</li>\n",
       "\t<li>Maine</li>\n",
       "\t<li>Arkansas</li>\n",
       "\t<li>Alaska</li>\n",
       "\t<li>Vermont</li>\n",
       "\t<li>Idaho</li>\n",
       "\t<li>Mississippi</li>\n",
       "\t<li>West Virginia</li>\n",
       "\t<li>South Dakota</li>\n",
       "\t<li>Montana</li>\n",
       "\t<li>Hawaii</li>\n",
       "\t<li>Maine CD-1</li>\n",
       "\t<li>Maine CD-2</li>\n",
       "\t<li>Rhode Island</li>\n",
       "\t<li>Nebraska CD-3</li>\n",
       "\t<li>Nebraska CD-1</li>\n",
       "\t<li>Delaware</li>\n",
       "\t<li>North Dakota</li>\n",
       "\t<li>District of Columbia</li>\n",
       "\t<li>Nebraska CD-2</li>\n",
       "\t<li>Wyoming</li>\n",
       "</ol>\n",
       "\n",
       "<details>\n",
       "\t<summary style=display:list-item;cursor:pointer>\n",
       "\t\t<strong>Levels</strong>:\n",
       "\t</summary>\n",
       "\t<ol class=list-inline>\n",
       "\t\t<li>'Alabama'</li>\n",
       "\t\t<li>'Alaska'</li>\n",
       "\t\t<li>'Arizona'</li>\n",
       "\t\t<li>'Arkansas'</li>\n",
       "\t\t<li>'California'</li>\n",
       "\t\t<li>'Colorado'</li>\n",
       "\t\t<li>'Connecticut'</li>\n",
       "\t\t<li>'Delaware'</li>\n",
       "\t\t<li>'District of Columbia'</li>\n",
       "\t\t<li>'Florida'</li>\n",
       "\t\t<li>'Georgia'</li>\n",
       "\t\t<li>'Hawaii'</li>\n",
       "\t\t<li>'Idaho'</li>\n",
       "\t\t<li>'Illinois'</li>\n",
       "\t\t<li>'Indiana'</li>\n",
       "\t\t<li>'Iowa'</li>\n",
       "\t\t<li>'Kansas'</li>\n",
       "\t\t<li>'Kentucky'</li>\n",
       "\t\t<li>'Louisiana'</li>\n",
       "\t\t<li>'Maine'</li>\n",
       "\t\t<li>'Maine CD-1'</li>\n",
       "\t\t<li>'Maine CD-2'</li>\n",
       "\t\t<li>'Maryland'</li>\n",
       "\t\t<li>'Massachusetts'</li>\n",
       "\t\t<li>'Michigan'</li>\n",
       "\t\t<li>'Minnesota'</li>\n",
       "\t\t<li>'Mississippi'</li>\n",
       "\t\t<li>'Missouri'</li>\n",
       "\t\t<li>'Montana'</li>\n",
       "\t\t<li>'Nebraska'</li>\n",
       "\t\t<li>'Nebraska CD-1'</li>\n",
       "\t\t<li>'Nebraska CD-2'</li>\n",
       "\t\t<li>'Nebraska CD-3'</li>\n",
       "\t\t<li>'Nevada'</li>\n",
       "\t\t<li>'New Hampshire'</li>\n",
       "\t\t<li>'New Jersey'</li>\n",
       "\t\t<li>'New Mexico'</li>\n",
       "\t\t<li>'New York'</li>\n",
       "\t\t<li>'North Carolina'</li>\n",
       "\t\t<li>'North Dakota'</li>\n",
       "\t\t<li>'Ohio'</li>\n",
       "\t\t<li>'Oklahoma'</li>\n",
       "\t\t<li>'Oregon'</li>\n",
       "\t\t<li>'Pennsylvania'</li>\n",
       "\t\t<li>'Rhode Island'</li>\n",
       "\t\t<li>'South Carolina'</li>\n",
       "\t\t<li>'South Dakota'</li>\n",
       "\t\t<li>'Tennessee'</li>\n",
       "\t\t<li>'Texas'</li>\n",
       "\t\t<li>'U.S.'</li>\n",
       "\t\t<li>'Utah'</li>\n",
       "\t\t<li>'Vermont'</li>\n",
       "\t\t<li>'Virginia'</li>\n",
       "\t\t<li>'Washington'</li>\n",
       "\t\t<li>'West Virginia'</li>\n",
       "\t\t<li>'Wisconsin'</li>\n",
       "\t\t<li>'Wyoming'</li>\n",
       "\t</ol>\n",
       "</details>"
      ],
      "text/latex": [
       "\\begin{enumerate*}\n",
       "\\item U.S.\n",
       "\\item New Mexico\n",
       "\\item Virginia\n",
       "\\item Iowa\n",
       "\\item Wisconsin\n",
       "\\item North Carolina\n",
       "\\item Georgia\n",
       "\\item Florida\n",
       "\\item Oregon\n",
       "\\item Ohio\n",
       "\\item South Carolina\n",
       "\\item New York\n",
       "\\item Michigan\n",
       "\\item Pennsylvania\n",
       "\\item Missouri\n",
       "\\item New Hampshire\n",
       "\\item Arizona\n",
       "\\item Nevada\n",
       "\\item Colorado\n",
       "\\item California\n",
       "\\item Washington\n",
       "\\item Texas\n",
       "\\item Utah\n",
       "\\item Illinois\n",
       "\\item Indiana\n",
       "\\item Tennessee\n",
       "\\item Connecticut\n",
       "\\item Massachusetts\n",
       "\\item New Jersey\n",
       "\\item Kansas\n",
       "\\item Kentucky\n",
       "\\item Minnesota\n",
       "\\item Oklahoma\n",
       "\\item Maryland\n",
       "\\item Alabama\n",
       "\\item Nebraska\n",
       "\\item Louisiana\n",
       "\\item Maine\n",
       "\\item Arkansas\n",
       "\\item Alaska\n",
       "\\item Vermont\n",
       "\\item Idaho\n",
       "\\item Mississippi\n",
       "\\item West Virginia\n",
       "\\item South Dakota\n",
       "\\item Montana\n",
       "\\item Hawaii\n",
       "\\item Maine CD-1\n",
       "\\item Maine CD-2\n",
       "\\item Rhode Island\n",
       "\\item Nebraska CD-3\n",
       "\\item Nebraska CD-1\n",
       "\\item Delaware\n",
       "\\item North Dakota\n",
       "\\item District of Columbia\n",
       "\\item Nebraska CD-2\n",
       "\\item Wyoming\n",
       "\\end{enumerate*}\n",
       "\n",
       "\\emph{Levels}: \\begin{enumerate*}\n",
       "\\item 'Alabama'\n",
       "\\item 'Alaska'\n",
       "\\item 'Arizona'\n",
       "\\item 'Arkansas'\n",
       "\\item 'California'\n",
       "\\item 'Colorado'\n",
       "\\item 'Connecticut'\n",
       "\\item 'Delaware'\n",
       "\\item 'District of Columbia'\n",
       "\\item 'Florida'\n",
       "\\item 'Georgia'\n",
       "\\item 'Hawaii'\n",
       "\\item 'Idaho'\n",
       "\\item 'Illinois'\n",
       "\\item 'Indiana'\n",
       "\\item 'Iowa'\n",
       "\\item 'Kansas'\n",
       "\\item 'Kentucky'\n",
       "\\item 'Louisiana'\n",
       "\\item 'Maine'\n",
       "\\item 'Maine CD-1'\n",
       "\\item 'Maine CD-2'\n",
       "\\item 'Maryland'\n",
       "\\item 'Massachusetts'\n",
       "\\item 'Michigan'\n",
       "\\item 'Minnesota'\n",
       "\\item 'Mississippi'\n",
       "\\item 'Missouri'\n",
       "\\item 'Montana'\n",
       "\\item 'Nebraska'\n",
       "\\item 'Nebraska CD-1'\n",
       "\\item 'Nebraska CD-2'\n",
       "\\item 'Nebraska CD-3'\n",
       "\\item 'Nevada'\n",
       "\\item 'New Hampshire'\n",
       "\\item 'New Jersey'\n",
       "\\item 'New Mexico'\n",
       "\\item 'New York'\n",
       "\\item 'North Carolina'\n",
       "\\item 'North Dakota'\n",
       "\\item 'Ohio'\n",
       "\\item 'Oklahoma'\n",
       "\\item 'Oregon'\n",
       "\\item 'Pennsylvania'\n",
       "\\item 'Rhode Island'\n",
       "\\item 'South Carolina'\n",
       "\\item 'South Dakota'\n",
       "\\item 'Tennessee'\n",
       "\\item 'Texas'\n",
       "\\item 'U.S.'\n",
       "\\item 'Utah'\n",
       "\\item 'Vermont'\n",
       "\\item 'Virginia'\n",
       "\\item 'Washington'\n",
       "\\item 'West Virginia'\n",
       "\\item 'Wisconsin'\n",
       "\\item 'Wyoming'\n",
       "\\end{enumerate*}\n"
      ],
      "text/markdown": [
       "1. U.S.\n",
       "2. New Mexico\n",
       "3. Virginia\n",
       "4. Iowa\n",
       "5. Wisconsin\n",
       "6. North Carolina\n",
       "7. Georgia\n",
       "8. Florida\n",
       "9. Oregon\n",
       "10. Ohio\n",
       "11. South Carolina\n",
       "12. New York\n",
       "13. Michigan\n",
       "14. Pennsylvania\n",
       "15. Missouri\n",
       "16. New Hampshire\n",
       "17. Arizona\n",
       "18. Nevada\n",
       "19. Colorado\n",
       "20. California\n",
       "21. Washington\n",
       "22. Texas\n",
       "23. Utah\n",
       "24. Illinois\n",
       "25. Indiana\n",
       "26. Tennessee\n",
       "27. Connecticut\n",
       "28. Massachusetts\n",
       "29. New Jersey\n",
       "30. Kansas\n",
       "31. Kentucky\n",
       "32. Minnesota\n",
       "33. Oklahoma\n",
       "34. Maryland\n",
       "35. Alabama\n",
       "36. Nebraska\n",
       "37. Louisiana\n",
       "38. Maine\n",
       "39. Arkansas\n",
       "40. Alaska\n",
       "41. Vermont\n",
       "42. Idaho\n",
       "43. Mississippi\n",
       "44. West Virginia\n",
       "45. South Dakota\n",
       "46. Montana\n",
       "47. Hawaii\n",
       "48. Maine CD-1\n",
       "49. Maine CD-2\n",
       "50. Rhode Island\n",
       "51. Nebraska CD-3\n",
       "52. Nebraska CD-1\n",
       "53. Delaware\n",
       "54. North Dakota\n",
       "55. District of Columbia\n",
       "56. Nebraska CD-2\n",
       "57. Wyoming\n",
       "\n",
       "\n",
       "\n",
       "**Levels**: 1. 'Alabama'\n",
       "2. 'Alaska'\n",
       "3. 'Arizona'\n",
       "4. 'Arkansas'\n",
       "5. 'California'\n",
       "6. 'Colorado'\n",
       "7. 'Connecticut'\n",
       "8. 'Delaware'\n",
       "9. 'District of Columbia'\n",
       "10. 'Florida'\n",
       "11. 'Georgia'\n",
       "12. 'Hawaii'\n",
       "13. 'Idaho'\n",
       "14. 'Illinois'\n",
       "15. 'Indiana'\n",
       "16. 'Iowa'\n",
       "17. 'Kansas'\n",
       "18. 'Kentucky'\n",
       "19. 'Louisiana'\n",
       "20. 'Maine'\n",
       "21. 'Maine CD-1'\n",
       "22. 'Maine CD-2'\n",
       "23. 'Maryland'\n",
       "24. 'Massachusetts'\n",
       "25. 'Michigan'\n",
       "26. 'Minnesota'\n",
       "27. 'Mississippi'\n",
       "28. 'Missouri'\n",
       "29. 'Montana'\n",
       "30. 'Nebraska'\n",
       "31. 'Nebraska CD-1'\n",
       "32. 'Nebraska CD-2'\n",
       "33. 'Nebraska CD-3'\n",
       "34. 'Nevada'\n",
       "35. 'New Hampshire'\n",
       "36. 'New Jersey'\n",
       "37. 'New Mexico'\n",
       "38. 'New York'\n",
       "39. 'North Carolina'\n",
       "40. 'North Dakota'\n",
       "41. 'Ohio'\n",
       "42. 'Oklahoma'\n",
       "43. 'Oregon'\n",
       "44. 'Pennsylvania'\n",
       "45. 'Rhode Island'\n",
       "46. 'South Carolina'\n",
       "47. 'South Dakota'\n",
       "48. 'Tennessee'\n",
       "49. 'Texas'\n",
       "50. 'U.S.'\n",
       "51. 'Utah'\n",
       "52. 'Vermont'\n",
       "53. 'Virginia'\n",
       "54. 'Washington'\n",
       "55. 'West Virginia'\n",
       "56. 'Wisconsin'\n",
       "57. 'Wyoming'\n",
       "\n",
       "\n"
      ],
      "text/plain": [
       " [1] U.S.                 New Mexico           Virginia            \n",
       " [4] Iowa                 Wisconsin            North Carolina      \n",
       " [7] Georgia              Florida              Oregon              \n",
       "[10] Ohio                 South Carolina       New York            \n",
       "[13] Michigan             Pennsylvania         Missouri            \n",
       "[16] New Hampshire        Arizona              Nevada              \n",
       "[19] Colorado             California           Washington          \n",
       "[22] Texas                Utah                 Illinois            \n",
       "[25] Indiana              Tennessee            Connecticut         \n",
       "[28] Massachusetts        New Jersey           Kansas              \n",
       "[31] Kentucky             Minnesota            Oklahoma            \n",
       "[34] Maryland             Alabama              Nebraska            \n",
       "[37] Louisiana            Maine                Arkansas            \n",
       "[40] Alaska               Vermont              Idaho               \n",
       "[43] Mississippi          West Virginia        South Dakota        \n",
       "[46] Montana              Hawaii               Maine CD-1          \n",
       "[49] Maine CD-2           Rhode Island         Nebraska CD-3       \n",
       "[52] Nebraska CD-1        Delaware             North Dakota        \n",
       "[55] District of Columbia Nebraska CD-2        Wyoming             \n",
       "57 Levels: Alabama Alaska Arizona Arkansas California Colorado ... Wyoming"
      ]
     },
     "metadata": {},
     "output_type": "display_data"
    }
   ],
   "source": [
    "#On remarque que certains états sont découpés, avec des spécifications \"CD\".\n",
    "#On entient compte en les enlevant des données.\n",
    "unique(polls_us_election_2016$state)"
   ]
  },
  {
   "cell_type": "code",
   "execution_count": 25,
   "metadata": {},
   "outputs": [],
   "source": [
    "polls = filter(polls_us_election_2016, state != \"U.S.\")\n",
    "polls = filter(polls, !str_detect(state, \"CD\"))"
   ]
  },
  {
   "cell_type": "markdown",
   "metadata": {},
   "source": [
    "On remarque que certains sondages sont jugés par les auteurs du dataset comme moins précis ou fiable que les autres, ayant une note plus faible. On les retire."
   ]
  },
  {
   "cell_type": "code",
   "execution_count": 26,
   "metadata": {},
   "outputs": [],
   "source": [
    "polls = filter(polls, grade %in% c(\"A+\",\"A\",\"A-\",\"B+\") | is.na(grade))"
   ]
  },
  {
   "cell_type": "markdown",
   "metadata": {},
   "source": [
    "De même on ne garde pas les sondages trop vieux, l'élection ayant lieu le 08.11.2016"
   ]
  },
  {
   "cell_type": "code",
   "execution_count": 27,
   "metadata": {},
   "outputs": [],
   "source": [
    "polls = filter(polls, enddate >= \"2016-10-31\")"
   ]
  },
  {
   "cell_type": "markdown",
   "metadata": {},
   "source": [
    "On crée une nouvelle variable qu'on appelle spread, l'écart entre clinton et trump.  \n",
    "Cette variable est comprise entre 1 (clinton) et -1 (trump)"
   ]
  },
  {
   "cell_type": "code",
   "execution_count": 28,
   "metadata": {},
   "outputs": [
    {
     "data": {
      "text/html": [
       "<table>\n",
       "<thead><tr><th scope=col>state</th><th scope=col>startdate</th><th scope=col>enddate</th><th scope=col>pollster</th><th scope=col>grade</th><th scope=col>samplesize</th><th scope=col>population</th><th scope=col>rawpoll_clinton</th><th scope=col>rawpoll_trump</th><th scope=col>rawpoll_johnson</th><th scope=col>rawpoll_mcmullin</th><th scope=col>adjpoll_clinton</th><th scope=col>adjpoll_trump</th><th scope=col>adjpoll_johnson</th><th scope=col>adjpoll_mcmullin</th><th scope=col>spread</th></tr></thead>\n",
       "<tbody>\n",
       "\t<tr><td>New Mexico           </td><td>2016-11-06           </td><td>2016-11-06           </td><td>Zia Poll             </td><td>NA                   </td><td>8439                 </td><td>lv                   </td><td>46                   </td><td>44                   </td><td>6                    </td><td>NA                   </td><td>44.82594             </td><td>41.59978             </td><td>7.870127             </td><td>NA                   </td><td> 0.02                </td></tr>\n",
       "\t<tr><td>Virginia             </td><td>2016-11-03           </td><td>2016-11-04           </td><td>Public Policy Polling</td><td>B+                   </td><td>1238                 </td><td>lv                   </td><td>48                   </td><td>43                   </td><td>1                    </td><td>NA                   </td><td>47.43805             </td><td>42.32751             </td><td>2.207659             </td><td>NA                   </td><td> 0.05                </td></tr>\n",
       "\t<tr><td><span style=white-space:pre-wrap>Iowa      </span>               </td><td>2016-11-01                                                       </td><td>2016-11-04                                                       </td><td><span style=white-space:pre-wrap>Selzer &amp; Company     </span></td><td>A+                                                               </td><td> 800                                                             </td><td>lv                                                               </td><td>39                                                               </td><td>46                                                               </td><td>6                                                                </td><td>NA                                                               </td><td>39.37561                                                         </td><td>45.66917                                                         </td><td>6.062713                                                         </td><td>NA                                                               </td><td>-0.07                                                            </td></tr>\n",
       "</tbody>\n",
       "</table>\n"
      ],
      "text/latex": [
       "\\begin{tabular}{r|llllllllllllllll}\n",
       " state & startdate & enddate & pollster & grade & samplesize & population & rawpoll\\_clinton & rawpoll\\_trump & rawpoll\\_johnson & rawpoll\\_mcmullin & adjpoll\\_clinton & adjpoll\\_trump & adjpoll\\_johnson & adjpoll\\_mcmullin & spread\\\\\n",
       "\\hline\n",
       "\t New Mexico            & 2016-11-06            & 2016-11-06            & Zia Poll              & NA                    & 8439                  & lv                    & 46                    & 44                    & 6                     & NA                    & 44.82594              & 41.59978              & 7.870127              & NA                    &  0.02                \\\\\n",
       "\t Virginia              & 2016-11-03            & 2016-11-04            & Public Policy Polling & B+                    & 1238                  & lv                    & 48                    & 43                    & 1                     & NA                    & 47.43805              & 42.32751              & 2.207659              & NA                    &  0.05                \\\\\n",
       "\t Iowa                    & 2016-11-01              & 2016-11-04              & Selzer \\& Company      & A+                      &  800                    & lv                      & 39                      & 46                      & 6                       & NA                      & 39.37561                & 45.66917                & 6.062713                & NA                      & -0.07                  \\\\\n",
       "\\end{tabular}\n"
      ],
      "text/markdown": [
       "\n",
       "| state | startdate | enddate | pollster | grade | samplesize | population | rawpoll_clinton | rawpoll_trump | rawpoll_johnson | rawpoll_mcmullin | adjpoll_clinton | adjpoll_trump | adjpoll_johnson | adjpoll_mcmullin | spread |\n",
       "|---|---|---|---|---|---|---|---|---|---|---|---|---|---|---|---|\n",
       "| New Mexico            | 2016-11-06            | 2016-11-06            | Zia Poll              | NA                    | 8439                  | lv                    | 46                    | 44                    | 6                     | NA                    | 44.82594              | 41.59978              | 7.870127              | NA                    |  0.02                 |\n",
       "| Virginia              | 2016-11-03            | 2016-11-04            | Public Policy Polling | B+                    | 1238                  | lv                    | 48                    | 43                    | 1                     | NA                    | 47.43805              | 42.32751              | 2.207659              | NA                    |  0.05                 |\n",
       "| Iowa                  | 2016-11-01            | 2016-11-04            | Selzer & Company      | A+                    |  800                  | lv                    | 39                    | 46                    | 6                     | NA                    | 39.37561              | 45.66917              | 6.062713              | NA                    | -0.07                 |\n",
       "\n"
      ],
      "text/plain": [
       "  state      startdate  enddate    pollster              grade samplesize\n",
       "1 New Mexico 2016-11-06 2016-11-06 Zia Poll              NA    8439      \n",
       "2 Virginia   2016-11-03 2016-11-04 Public Policy Polling B+    1238      \n",
       "3 Iowa       2016-11-01 2016-11-04 Selzer & Company      A+     800      \n",
       "  population rawpoll_clinton rawpoll_trump rawpoll_johnson rawpoll_mcmullin\n",
       "1 lv         46              44            6               NA              \n",
       "2 lv         48              43            1               NA              \n",
       "3 lv         39              46            6               NA              \n",
       "  adjpoll_clinton adjpoll_trump adjpoll_johnson adjpoll_mcmullin spread\n",
       "1 44.82594        41.59978      7.870127        NA                0.02 \n",
       "2 47.43805        42.32751      2.207659        NA                0.05 \n",
       "3 39.37561        45.66917      6.062713        NA               -0.07 "
      ]
     },
     "metadata": {},
     "output_type": "display_data"
    }
   ],
   "source": [
    "polls = mutate(polls, spread = rawpoll_clinton/100 - rawpoll_trump/100)\n",
    "polls_raw = polls\n",
    "head(polls, n=3)"
   ]
  },
  {
   "cell_type": "code",
   "execution_count": 29,
   "metadata": {},
   "outputs": [
    {
     "data": {
      "text/html": [
       "<table>\n",
       "<thead><tr><th scope=col>state</th><th scope=col>startdate</th><th scope=col>enddate</th><th scope=col>pollster</th><th scope=col>grade</th><th scope=col>samplesize</th><th scope=col>population</th><th scope=col>rawpoll_clinton</th><th scope=col>rawpoll_trump</th><th scope=col>rawpoll_johnson</th><th scope=col>rawpoll_mcmullin</th><th scope=col>adjpoll_clinton</th><th scope=col>adjpoll_trump</th><th scope=col>adjpoll_johnson</th><th scope=col>adjpoll_mcmullin</th><th scope=col>spread</th></tr></thead>\n",
       "<tbody>\n",
       "\t<tr><td>New Mexico           </td><td>2016-11-06           </td><td>2016-11-06           </td><td>Zia Poll             </td><td>NA                   </td><td>8439                 </td><td>lv                   </td><td>46                   </td><td>44                   </td><td>6                    </td><td>NA                   </td><td>44.82594             </td><td>41.59978             </td><td>7.870127             </td><td>NA                   </td><td> 0.02                </td></tr>\n",
       "\t<tr><td>Virginia             </td><td>2016-11-03           </td><td>2016-11-04           </td><td>Public Policy Polling</td><td>B+                   </td><td>1238                 </td><td>lv                   </td><td>48                   </td><td>43                   </td><td>1                    </td><td>NA                   </td><td>47.43805             </td><td>42.32751             </td><td>2.207659             </td><td>NA                   </td><td> 0.05                </td></tr>\n",
       "\t<tr><td><span style=white-space:pre-wrap>Iowa          </span>           </td><td>2016-11-01                                                       </td><td>2016-11-04                                                       </td><td><span style=white-space:pre-wrap>Selzer &amp; Company     </span></td><td>A+                                                               </td><td> 800                                                             </td><td>lv                                                               </td><td>39                                                               </td><td>46                                                               </td><td>6                                                                </td><td>NA                                                               </td><td>39.37561                                                         </td><td>45.66917                                                         </td><td>6.062713                                                         </td><td>NA                                                               </td><td>-0.07                                                            </td></tr>\n",
       "\t<tr><td>Wisconsin            </td><td>2016-10-26           </td><td>2016-10-31           </td><td>Marquette University </td><td>A                    </td><td>1255                 </td><td>lv                   </td><td>46                   </td><td>40                   </td><td>4                    </td><td>NA                   </td><td>46.10344             </td><td>40.97982             </td><td>2.897062             </td><td>NA                   </td><td> 0.06                </td></tr>\n",
       "\t<tr><td>North Carolina       </td><td>2016-11-04           </td><td>2016-11-06           </td><td>Siena College        </td><td>A                    </td><td> 800                 </td><td>lv                   </td><td>44                   </td><td>44                   </td><td>3                    </td><td>NA                   </td><td>44.21875             </td><td>45.08290             </td><td>2.335250             </td><td>NA                   </td><td> 0.00                </td></tr>\n",
       "\t<tr><td>Florida              </td><td>2016-11-03           </td><td>2016-11-06           </td><td>Quinnipiac University</td><td>A-                   </td><td> 884                 </td><td>lv                   </td><td>46                   </td><td>45                   </td><td>2                    </td><td>NA                   </td><td>46.44315             </td><td>43.93999             </td><td>2.098310             </td><td>NA                   </td><td> 0.01                </td></tr>\n",
       "</tbody>\n",
       "</table>\n"
      ],
      "text/latex": [
       "\\begin{tabular}{r|llllllllllllllll}\n",
       " state & startdate & enddate & pollster & grade & samplesize & population & rawpoll\\_clinton & rawpoll\\_trump & rawpoll\\_johnson & rawpoll\\_mcmullin & adjpoll\\_clinton & adjpoll\\_trump & adjpoll\\_johnson & adjpoll\\_mcmullin & spread\\\\\n",
       "\\hline\n",
       "\t New Mexico            & 2016-11-06            & 2016-11-06            & Zia Poll              & NA                    & 8439                  & lv                    & 46                    & 44                    & 6                     & NA                    & 44.82594              & 41.59978              & 7.870127              & NA                    &  0.02                \\\\\n",
       "\t Virginia              & 2016-11-03            & 2016-11-04            & Public Policy Polling & B+                    & 1238                  & lv                    & 48                    & 43                    & 1                     & NA                    & 47.43805              & 42.32751              & 2.207659              & NA                    &  0.05                \\\\\n",
       "\t Iowa                    & 2016-11-01              & 2016-11-04              & Selzer \\& Company      & A+                      &  800                    & lv                      & 39                      & 46                      & 6                       & NA                      & 39.37561                & 45.66917                & 6.062713                & NA                      & -0.07                  \\\\\n",
       "\t Wisconsin             & 2016-10-26            & 2016-10-31            & Marquette University  & A                     & 1255                  & lv                    & 46                    & 40                    & 4                     & NA                    & 46.10344              & 40.97982              & 2.897062              & NA                    &  0.06                \\\\\n",
       "\t North Carolina        & 2016-11-04            & 2016-11-06            & Siena College         & A                     &  800                  & lv                    & 44                    & 44                    & 3                     & NA                    & 44.21875              & 45.08290              & 2.335250              & NA                    &  0.00                \\\\\n",
       "\t Florida               & 2016-11-03            & 2016-11-06            & Quinnipiac University & A-                    &  884                  & lv                    & 46                    & 45                    & 2                     & NA                    & 46.44315              & 43.93999              & 2.098310              & NA                    &  0.01                \\\\\n",
       "\\end{tabular}\n"
      ],
      "text/markdown": [
       "\n",
       "| state | startdate | enddate | pollster | grade | samplesize | population | rawpoll_clinton | rawpoll_trump | rawpoll_johnson | rawpoll_mcmullin | adjpoll_clinton | adjpoll_trump | adjpoll_johnson | adjpoll_mcmullin | spread |\n",
       "|---|---|---|---|---|---|---|---|---|---|---|---|---|---|---|---|\n",
       "| New Mexico            | 2016-11-06            | 2016-11-06            | Zia Poll              | NA                    | 8439                  | lv                    | 46                    | 44                    | 6                     | NA                    | 44.82594              | 41.59978              | 7.870127              | NA                    |  0.02                 |\n",
       "| Virginia              | 2016-11-03            | 2016-11-04            | Public Policy Polling | B+                    | 1238                  | lv                    | 48                    | 43                    | 1                     | NA                    | 47.43805              | 42.32751              | 2.207659              | NA                    |  0.05                 |\n",
       "| Iowa                  | 2016-11-01            | 2016-11-04            | Selzer & Company      | A+                    |  800                  | lv                    | 39                    | 46                    | 6                     | NA                    | 39.37561              | 45.66917              | 6.062713              | NA                    | -0.07                 |\n",
       "| Wisconsin             | 2016-10-26            | 2016-10-31            | Marquette University  | A                     | 1255                  | lv                    | 46                    | 40                    | 4                     | NA                    | 46.10344              | 40.97982              | 2.897062              | NA                    |  0.06                 |\n",
       "| North Carolina        | 2016-11-04            | 2016-11-06            | Siena College         | A                     |  800                  | lv                    | 44                    | 44                    | 3                     | NA                    | 44.21875              | 45.08290              | 2.335250              | NA                    |  0.00                 |\n",
       "| Florida               | 2016-11-03            | 2016-11-06            | Quinnipiac University | A-                    |  884                  | lv                    | 46                    | 45                    | 2                     | NA                    | 46.44315              | 43.93999              | 2.098310              | NA                    |  0.01                 |\n",
       "\n"
      ],
      "text/plain": [
       "  state          startdate  enddate    pollster              grade samplesize\n",
       "1 New Mexico     2016-11-06 2016-11-06 Zia Poll              NA    8439      \n",
       "2 Virginia       2016-11-03 2016-11-04 Public Policy Polling B+    1238      \n",
       "3 Iowa           2016-11-01 2016-11-04 Selzer & Company      A+     800      \n",
       "4 Wisconsin      2016-10-26 2016-10-31 Marquette University  A     1255      \n",
       "5 North Carolina 2016-11-04 2016-11-06 Siena College         A      800      \n",
       "6 Florida        2016-11-03 2016-11-06 Quinnipiac University A-     884      \n",
       "  population rawpoll_clinton rawpoll_trump rawpoll_johnson rawpoll_mcmullin\n",
       "1 lv         46              44            6               NA              \n",
       "2 lv         48              43            1               NA              \n",
       "3 lv         39              46            6               NA              \n",
       "4 lv         46              40            4               NA              \n",
       "5 lv         44              44            3               NA              \n",
       "6 lv         46              45            2               NA              \n",
       "  adjpoll_clinton adjpoll_trump adjpoll_johnson adjpoll_mcmullin spread\n",
       "1 44.82594        41.59978      7.870127        NA                0.02 \n",
       "2 47.43805        42.32751      2.207659        NA                0.05 \n",
       "3 39.37561        45.66917      6.062713        NA               -0.07 \n",
       "4 46.10344        40.97982      2.897062        NA                0.06 \n",
       "5 44.21875        45.08290      2.335250        NA                0.00 \n",
       "6 46.44315        43.93999      2.098310        NA                0.01 "
      ]
     },
     "metadata": {},
     "output_type": "display_data"
    }
   ],
   "source": [
    "polls = group_by(polls, state)\n",
    "head(polls)"
   ]
  },
  {
   "cell_type": "code",
   "execution_count": 30,
   "metadata": {},
   "outputs": [
    {
     "data": {
      "text/html": [
       "<table>\n",
       "<thead><tr><th scope=col>state</th><th scope=col>mu_sondages_etat</th><th scope=col>sigma_sondages_etat</th><th scope=col>nb_sondages_etat</th></tr></thead>\n",
       "<tbody>\n",
       "\t<tr><td>Alabama     </td><td>-0.14943333 </td><td>0.0253279161</td><td>3           </td></tr>\n",
       "\t<tr><td>Arizona     </td><td>-0.03264444 </td><td>0.0269547357</td><td>9           </td></tr>\n",
       "\t<tr><td>Arkansas    </td><td>-0.15140000 </td><td>0.0009899495</td><td>2           </td></tr>\n",
       "\t<tr><td>California  </td><td> 0.26010000 </td><td>0.0387329317</td><td>5           </td></tr>\n",
       "\t<tr><td>Colorado    </td><td> 0.04520000 </td><td>0.0294593505</td><td>7           </td></tr>\n",
       "\t<tr><td>Connecticut </td><td> 0.07803333 </td><td>0.0210984202</td><td>3           </td></tr>\n",
       "</tbody>\n",
       "</table>\n"
      ],
      "text/latex": [
       "\\begin{tabular}{r|llll}\n",
       " state & mu\\_sondages\\_etat & sigma\\_sondages\\_etat & nb\\_sondages\\_etat\\\\\n",
       "\\hline\n",
       "\t Alabama      & -0.14943333  & 0.0253279161 & 3           \\\\\n",
       "\t Arizona      & -0.03264444  & 0.0269547357 & 9           \\\\\n",
       "\t Arkansas     & -0.15140000  & 0.0009899495 & 2           \\\\\n",
       "\t California   &  0.26010000  & 0.0387329317 & 5           \\\\\n",
       "\t Colorado     &  0.04520000  & 0.0294593505 & 7           \\\\\n",
       "\t Connecticut  &  0.07803333  & 0.0210984202 & 3           \\\\\n",
       "\\end{tabular}\n"
      ],
      "text/markdown": [
       "\n",
       "| state | mu_sondages_etat | sigma_sondages_etat | nb_sondages_etat |\n",
       "|---|---|---|---|\n",
       "| Alabama      | -0.14943333  | 0.0253279161 | 3            |\n",
       "| Arizona      | -0.03264444  | 0.0269547357 | 9            |\n",
       "| Arkansas     | -0.15140000  | 0.0009899495 | 2            |\n",
       "| California   |  0.26010000  | 0.0387329317 | 5            |\n",
       "| Colorado     |  0.04520000  | 0.0294593505 | 7            |\n",
       "| Connecticut  |  0.07803333  | 0.0210984202 | 3            |\n",
       "\n"
      ],
      "text/plain": [
       "  state       mu_sondages_etat sigma_sondages_etat nb_sondages_etat\n",
       "1 Alabama     -0.14943333      0.0253279161        3               \n",
       "2 Arizona     -0.03264444      0.0269547357        9               \n",
       "3 Arkansas    -0.15140000      0.0009899495        2               \n",
       "4 California   0.26010000      0.0387329317        5               \n",
       "5 Colorado     0.04520000      0.0294593505        7               \n",
       "6 Connecticut  0.07803333      0.0210984202        3               "
      ]
     },
     "metadata": {},
     "output_type": "display_data"
    }
   ],
   "source": [
    "polls = summarize(polls,\n",
    "                  mu_sondages_etat = mean(spread),\n",
    "                  sigma_sondages_etat = sd(spread),\n",
    "                  nb_sondages_etat = n())\n",
    "head(polls)"
   ]
  },
  {
   "cell_type": "code",
   "execution_count": 51,
   "metadata": {},
   "outputs": [],
   "source": [
    "polls = mutate(polls, state = as.character(state))"
   ]
  },
  {
   "cell_type": "markdown",
   "metadata": {},
   "source": [
    "On ajoute le nombre de grands électeurs par états, pour pouvoir effectuer une prédiction au niveau national, après avoir aggrégé les résultats par états :"
   ]
  },
  {
   "cell_type": "code",
   "execution_count": 32,
   "metadata": {},
   "outputs": [
    {
     "data": {
      "text/html": [
       "<table>\n",
       "<thead><tr><th scope=col>state</th><th scope=col>mu_sondages_etat</th><th scope=col>sigma_sondages_etat</th><th scope=col>nb_sondages_etat</th><th scope=col>electoral_votes</th></tr></thead>\n",
       "<tbody>\n",
       "\t<tr><td>Alabama       </td><td>-0.149433333  </td><td>0.0253279161  </td><td> 3            </td><td> 9            </td></tr>\n",
       "\t<tr><td>Arizona       </td><td>-0.032644444  </td><td>0.0269547357  </td><td> 9            </td><td>11            </td></tr>\n",
       "\t<tr><td>Arkansas      </td><td>-0.151400000  </td><td>0.0009899495  </td><td> 2            </td><td> 6            </td></tr>\n",
       "\t<tr><td>California    </td><td> 0.260100000  </td><td>0.0387329317  </td><td> 5            </td><td>55            </td></tr>\n",
       "\t<tr><td>Colorado      </td><td> 0.045200000  </td><td>0.0294593505  </td><td> 7            </td><td> 9            </td></tr>\n",
       "\t<tr><td>Connecticut   </td><td> 0.078033333  </td><td>0.0210984202  </td><td> 3            </td><td> 7            </td></tr>\n",
       "\t<tr><td>Delaware      </td><td> 0.132400000  </td><td>0.0335168614  </td><td> 2            </td><td> 3            </td></tr>\n",
       "\t<tr><td>Florida       </td><td> 0.003557143  </td><td>0.0163496032  </td><td> 7            </td><td>29            </td></tr>\n",
       "\t<tr><td>Georgia       </td><td>-0.044850000  </td><td>0.0238115518  </td><td> 4            </td><td>16            </td></tr>\n",
       "\t<tr><td>Hawaii        </td><td> 0.185600000  </td><td>         NaN  </td><td> 1            </td><td> 4            </td></tr>\n",
       "\t<tr><td>Idaho         </td><td>-0.224550000  </td><td>0.0105358910  </td><td> 2            </td><td> 4            </td></tr>\n",
       "\t<tr><td>Illinois      </td><td> 0.119400000  </td><td>0.0098045908  </td><td> 3            </td><td>20            </td></tr>\n",
       "\t<tr><td>Indiana       </td><td>-0.159366667  </td><td>0.0111073549  </td><td> 3            </td><td>11            </td></tr>\n",
       "\t<tr><td>Iowa          </td><td>-0.019733333  </td><td>0.0436647837  </td><td> 3            </td><td> 6            </td></tr>\n",
       "\t<tr><td>Kansas        </td><td>-0.156850000  </td><td>0.0077074639  </td><td> 2            </td><td> 6            </td></tr>\n",
       "\t<tr><td>Kentucky      </td><td>-0.236500000  </td><td>0.0311583055  </td><td> 3            </td><td> 8            </td></tr>\n",
       "\t<tr><td>Louisiana     </td><td>-0.164050000  </td><td>0.0136471609  </td><td> 2            </td><td> 8            </td></tr>\n",
       "\t<tr><td>Maine         </td><td> 0.077450000  </td><td>0.0070003571  </td><td> 2            </td><td> 4            </td></tr>\n",
       "\t<tr><td>Maryland      </td><td> 0.197300000  </td><td>0.0208453832  </td><td> 3            </td><td>10            </td></tr>\n",
       "\t<tr><td>Massachusetts </td><td> 0.201575000  </td><td>0.0660505551  </td><td> 4            </td><td>11            </td></tr>\n",
       "\t<tr><td>Michigan      </td><td> 0.020950000  </td><td>0.0202606762  </td><td> 6            </td><td>16            </td></tr>\n",
       "\t<tr><td>Minnesota     </td><td> 0.060500000  </td><td>0.0163477827  </td><td> 3            </td><td>10            </td></tr>\n",
       "\t<tr><td>Mississippi   </td><td>-0.204066667  </td><td>0.0391203698  </td><td> 3            </td><td> 6            </td></tr>\n",
       "\t<tr><td>Missouri      </td><td>-0.104983333  </td><td>0.0324377815  </td><td> 6            </td><td>10            </td></tr>\n",
       "\t<tr><td>Montana       </td><td>-0.184800000  </td><td>0.0060811183  </td><td> 2            </td><td> 3            </td></tr>\n",
       "\t<tr><td>Nebraska      </td><td>-0.214800000  </td><td>0.0038431758  </td><td> 3            </td><td> 5            </td></tr>\n",
       "\t<tr><td>Nevada        </td><td> 0.016857143  </td><td>0.0440680858  </td><td> 7            </td><td> 6            </td></tr>\n",
       "\t<tr><td>New Hampshire </td><td> 0.056416667  </td><td>0.0359483679  </td><td>12            </td><td> 4            </td></tr>\n",
       "\t<tr><td>New Jersey    </td><td> 0.109166667  </td><td>0.0234000712  </td><td> 3            </td><td>14            </td></tr>\n",
       "\t<tr><td>New Mexico    </td><td> 0.038933333  </td><td>0.0225518661  </td><td> 6            </td><td> 5            </td></tr>\n",
       "\t<tr><td>New York      </td><td> 0.184200000  </td><td>0.0272118847  </td><td> 4            </td><td>29            </td></tr>\n",
       "\t<tr><td>North Carolina</td><td>-0.007300000  </td><td>0.0306208262  </td><td> 9            </td><td>15            </td></tr>\n",
       "\t<tr><td>North Dakota  </td><td>-0.235600000  </td><td>         NaN  </td><td> 1            </td><td> 3            </td></tr>\n",
       "\t<tr><td>Ohio          </td><td>-0.010416667  </td><td>0.0252247828  </td><td> 6            </td><td>18            </td></tr>\n",
       "\t<tr><td>Oklahoma      </td><td>-0.307650000  </td><td>0.0023334524  </td><td> 2            </td><td> 7            </td></tr>\n",
       "\t<tr><td>Oregon        </td><td> 0.091200000  </td><td>0.0052848841  </td><td> 3            </td><td> 7            </td></tr>\n",
       "\t<tr><td>Pennsylvania  </td><td> 0.035333333  </td><td>0.0116052790  </td><td> 9            </td><td>20            </td></tr>\n",
       "\t<tr><td>South Carolina</td><td>-0.065100000  </td><td>0.0305768976  </td><td> 4            </td><td> 9            </td></tr>\n",
       "\t<tr><td>South Dakota  </td><td>-0.207300000  </td><td>0.0280014285  </td><td> 2            </td><td> 3            </td></tr>\n",
       "\t<tr><td>Tennessee     </td><td>-0.145666667  </td><td>0.0110183181  </td><td> 3            </td><td>11            </td></tr>\n",
       "\t<tr><td>Texas         </td><td>-0.095200000  </td><td>0.0038807216  </td><td> 4            </td><td>38            </td></tr>\n",
       "\t<tr><td>Utah          </td><td>-0.063800000  </td><td>0.0053740115  </td><td> 2            </td><td> 6            </td></tr>\n",
       "\t<tr><td>Vermont       </td><td> 0.248700000  </td><td>         NaN  </td><td> 1            </td><td> 3            </td></tr>\n",
       "\t<tr><td>Virginia      </td><td> 0.049240000  </td><td>0.0183777855  </td><td> 5            </td><td>13            </td></tr>\n",
       "\t<tr><td>Washington    </td><td> 0.101260000  </td><td>0.0330086049  </td><td> 5            </td><td>12            </td></tr>\n",
       "\t<tr><td>West Virginia </td><td>-0.237833333  </td><td>0.0004725816  </td><td> 3            </td><td> 5            </td></tr>\n",
       "\t<tr><td>Wisconsin     </td><td> 0.071066667  </td><td>0.0104145411  </td><td> 6            </td><td>10            </td></tr>\n",
       "</tbody>\n",
       "</table>\n"
      ],
      "text/latex": [
       "\\begin{tabular}{r|lllll}\n",
       " state & mu\\_sondages\\_etat & sigma\\_sondages\\_etat & nb\\_sondages\\_etat & electoral\\_votes\\\\\n",
       "\\hline\n",
       "\t Alabama        & -0.149433333   & 0.0253279161   &  3             &  9            \\\\\n",
       "\t Arizona        & -0.032644444   & 0.0269547357   &  9             & 11            \\\\\n",
       "\t Arkansas       & -0.151400000   & 0.0009899495   &  2             &  6            \\\\\n",
       "\t California     &  0.260100000   & 0.0387329317   &  5             & 55            \\\\\n",
       "\t Colorado       &  0.045200000   & 0.0294593505   &  7             &  9            \\\\\n",
       "\t Connecticut    &  0.078033333   & 0.0210984202   &  3             &  7            \\\\\n",
       "\t Delaware       &  0.132400000   & 0.0335168614   &  2             &  3            \\\\\n",
       "\t Florida        &  0.003557143   & 0.0163496032   &  7             & 29            \\\\\n",
       "\t Georgia        & -0.044850000   & 0.0238115518   &  4             & 16            \\\\\n",
       "\t Hawaii         &  0.185600000   &          NaN   &  1             &  4            \\\\\n",
       "\t Idaho          & -0.224550000   & 0.0105358910   &  2             &  4            \\\\\n",
       "\t Illinois       &  0.119400000   & 0.0098045908   &  3             & 20            \\\\\n",
       "\t Indiana        & -0.159366667   & 0.0111073549   &  3             & 11            \\\\\n",
       "\t Iowa           & -0.019733333   & 0.0436647837   &  3             &  6            \\\\\n",
       "\t Kansas         & -0.156850000   & 0.0077074639   &  2             &  6            \\\\\n",
       "\t Kentucky       & -0.236500000   & 0.0311583055   &  3             &  8            \\\\\n",
       "\t Louisiana      & -0.164050000   & 0.0136471609   &  2             &  8            \\\\\n",
       "\t Maine          &  0.077450000   & 0.0070003571   &  2             &  4            \\\\\n",
       "\t Maryland       &  0.197300000   & 0.0208453832   &  3             & 10            \\\\\n",
       "\t Massachusetts  &  0.201575000   & 0.0660505551   &  4             & 11            \\\\\n",
       "\t Michigan       &  0.020950000   & 0.0202606762   &  6             & 16            \\\\\n",
       "\t Minnesota      &  0.060500000   & 0.0163477827   &  3             & 10            \\\\\n",
       "\t Mississippi    & -0.204066667   & 0.0391203698   &  3             &  6            \\\\\n",
       "\t Missouri       & -0.104983333   & 0.0324377815   &  6             & 10            \\\\\n",
       "\t Montana        & -0.184800000   & 0.0060811183   &  2             &  3            \\\\\n",
       "\t Nebraska       & -0.214800000   & 0.0038431758   &  3             &  5            \\\\\n",
       "\t Nevada         &  0.016857143   & 0.0440680858   &  7             &  6            \\\\\n",
       "\t New Hampshire  &  0.056416667   & 0.0359483679   & 12             &  4            \\\\\n",
       "\t New Jersey     &  0.109166667   & 0.0234000712   &  3             & 14            \\\\\n",
       "\t New Mexico     &  0.038933333   & 0.0225518661   &  6             &  5            \\\\\n",
       "\t New York       &  0.184200000   & 0.0272118847   &  4             & 29            \\\\\n",
       "\t North Carolina & -0.007300000   & 0.0306208262   &  9             & 15            \\\\\n",
       "\t North Dakota   & -0.235600000   &          NaN   &  1             &  3            \\\\\n",
       "\t Ohio           & -0.010416667   & 0.0252247828   &  6             & 18            \\\\\n",
       "\t Oklahoma       & -0.307650000   & 0.0023334524   &  2             &  7            \\\\\n",
       "\t Oregon         &  0.091200000   & 0.0052848841   &  3             &  7            \\\\\n",
       "\t Pennsylvania   &  0.035333333   & 0.0116052790   &  9             & 20            \\\\\n",
       "\t South Carolina & -0.065100000   & 0.0305768976   &  4             &  9            \\\\\n",
       "\t South Dakota   & -0.207300000   & 0.0280014285   &  2             &  3            \\\\\n",
       "\t Tennessee      & -0.145666667   & 0.0110183181   &  3             & 11            \\\\\n",
       "\t Texas          & -0.095200000   & 0.0038807216   &  4             & 38            \\\\\n",
       "\t Utah           & -0.063800000   & 0.0053740115   &  2             &  6            \\\\\n",
       "\t Vermont        &  0.248700000   &          NaN   &  1             &  3            \\\\\n",
       "\t Virginia       &  0.049240000   & 0.0183777855   &  5             & 13            \\\\\n",
       "\t Washington     &  0.101260000   & 0.0330086049   &  5             & 12            \\\\\n",
       "\t West Virginia  & -0.237833333   & 0.0004725816   &  3             &  5            \\\\\n",
       "\t Wisconsin      &  0.071066667   & 0.0104145411   &  6             & 10            \\\\\n",
       "\\end{tabular}\n"
      ],
      "text/markdown": [
       "\n",
       "| state | mu_sondages_etat | sigma_sondages_etat | nb_sondages_etat | electoral_votes |\n",
       "|---|---|---|---|---|\n",
       "| Alabama        | -0.149433333   | 0.0253279161   |  3             |  9             |\n",
       "| Arizona        | -0.032644444   | 0.0269547357   |  9             | 11             |\n",
       "| Arkansas       | -0.151400000   | 0.0009899495   |  2             |  6             |\n",
       "| California     |  0.260100000   | 0.0387329317   |  5             | 55             |\n",
       "| Colorado       |  0.045200000   | 0.0294593505   |  7             |  9             |\n",
       "| Connecticut    |  0.078033333   | 0.0210984202   |  3             |  7             |\n",
       "| Delaware       |  0.132400000   | 0.0335168614   |  2             |  3             |\n",
       "| Florida        |  0.003557143   | 0.0163496032   |  7             | 29             |\n",
       "| Georgia        | -0.044850000   | 0.0238115518   |  4             | 16             |\n",
       "| Hawaii         |  0.185600000   |          NaN   |  1             |  4             |\n",
       "| Idaho          | -0.224550000   | 0.0105358910   |  2             |  4             |\n",
       "| Illinois       |  0.119400000   | 0.0098045908   |  3             | 20             |\n",
       "| Indiana        | -0.159366667   | 0.0111073549   |  3             | 11             |\n",
       "| Iowa           | -0.019733333   | 0.0436647837   |  3             |  6             |\n",
       "| Kansas         | -0.156850000   | 0.0077074639   |  2             |  6             |\n",
       "| Kentucky       | -0.236500000   | 0.0311583055   |  3             |  8             |\n",
       "| Louisiana      | -0.164050000   | 0.0136471609   |  2             |  8             |\n",
       "| Maine          |  0.077450000   | 0.0070003571   |  2             |  4             |\n",
       "| Maryland       |  0.197300000   | 0.0208453832   |  3             | 10             |\n",
       "| Massachusetts  |  0.201575000   | 0.0660505551   |  4             | 11             |\n",
       "| Michigan       |  0.020950000   | 0.0202606762   |  6             | 16             |\n",
       "| Minnesota      |  0.060500000   | 0.0163477827   |  3             | 10             |\n",
       "| Mississippi    | -0.204066667   | 0.0391203698   |  3             |  6             |\n",
       "| Missouri       | -0.104983333   | 0.0324377815   |  6             | 10             |\n",
       "| Montana        | -0.184800000   | 0.0060811183   |  2             |  3             |\n",
       "| Nebraska       | -0.214800000   | 0.0038431758   |  3             |  5             |\n",
       "| Nevada         |  0.016857143   | 0.0440680858   |  7             |  6             |\n",
       "| New Hampshire  |  0.056416667   | 0.0359483679   | 12             |  4             |\n",
       "| New Jersey     |  0.109166667   | 0.0234000712   |  3             | 14             |\n",
       "| New Mexico     |  0.038933333   | 0.0225518661   |  6             |  5             |\n",
       "| New York       |  0.184200000   | 0.0272118847   |  4             | 29             |\n",
       "| North Carolina | -0.007300000   | 0.0306208262   |  9             | 15             |\n",
       "| North Dakota   | -0.235600000   |          NaN   |  1             |  3             |\n",
       "| Ohio           | -0.010416667   | 0.0252247828   |  6             | 18             |\n",
       "| Oklahoma       | -0.307650000   | 0.0023334524   |  2             |  7             |\n",
       "| Oregon         |  0.091200000   | 0.0052848841   |  3             |  7             |\n",
       "| Pennsylvania   |  0.035333333   | 0.0116052790   |  9             | 20             |\n",
       "| South Carolina | -0.065100000   | 0.0305768976   |  4             |  9             |\n",
       "| South Dakota   | -0.207300000   | 0.0280014285   |  2             |  3             |\n",
       "| Tennessee      | -0.145666667   | 0.0110183181   |  3             | 11             |\n",
       "| Texas          | -0.095200000   | 0.0038807216   |  4             | 38             |\n",
       "| Utah           | -0.063800000   | 0.0053740115   |  2             |  6             |\n",
       "| Vermont        |  0.248700000   |          NaN   |  1             |  3             |\n",
       "| Virginia       |  0.049240000   | 0.0183777855   |  5             | 13             |\n",
       "| Washington     |  0.101260000   | 0.0330086049   |  5             | 12             |\n",
       "| West Virginia  | -0.237833333   | 0.0004725816   |  3             |  5             |\n",
       "| Wisconsin      |  0.071066667   | 0.0104145411   |  6             | 10             |\n",
       "\n"
      ],
      "text/plain": [
       "   state          mu_sondages_etat sigma_sondages_etat nb_sondages_etat\n",
       "1  Alabama        -0.149433333     0.0253279161         3              \n",
       "2  Arizona        -0.032644444     0.0269547357         9              \n",
       "3  Arkansas       -0.151400000     0.0009899495         2              \n",
       "4  California      0.260100000     0.0387329317         5              \n",
       "5  Colorado        0.045200000     0.0294593505         7              \n",
       "6  Connecticut     0.078033333     0.0210984202         3              \n",
       "7  Delaware        0.132400000     0.0335168614         2              \n",
       "8  Florida         0.003557143     0.0163496032         7              \n",
       "9  Georgia        -0.044850000     0.0238115518         4              \n",
       "10 Hawaii          0.185600000              NaN         1              \n",
       "11 Idaho          -0.224550000     0.0105358910         2              \n",
       "12 Illinois        0.119400000     0.0098045908         3              \n",
       "13 Indiana        -0.159366667     0.0111073549         3              \n",
       "14 Iowa           -0.019733333     0.0436647837         3              \n",
       "15 Kansas         -0.156850000     0.0077074639         2              \n",
       "16 Kentucky       -0.236500000     0.0311583055         3              \n",
       "17 Louisiana      -0.164050000     0.0136471609         2              \n",
       "18 Maine           0.077450000     0.0070003571         2              \n",
       "19 Maryland        0.197300000     0.0208453832         3              \n",
       "20 Massachusetts   0.201575000     0.0660505551         4              \n",
       "21 Michigan        0.020950000     0.0202606762         6              \n",
       "22 Minnesota       0.060500000     0.0163477827         3              \n",
       "23 Mississippi    -0.204066667     0.0391203698         3              \n",
       "24 Missouri       -0.104983333     0.0324377815         6              \n",
       "25 Montana        -0.184800000     0.0060811183         2              \n",
       "26 Nebraska       -0.214800000     0.0038431758         3              \n",
       "27 Nevada          0.016857143     0.0440680858         7              \n",
       "28 New Hampshire   0.056416667     0.0359483679        12              \n",
       "29 New Jersey      0.109166667     0.0234000712         3              \n",
       "30 New Mexico      0.038933333     0.0225518661         6              \n",
       "31 New York        0.184200000     0.0272118847         4              \n",
       "32 North Carolina -0.007300000     0.0306208262         9              \n",
       "33 North Dakota   -0.235600000              NaN         1              \n",
       "34 Ohio           -0.010416667     0.0252247828         6              \n",
       "35 Oklahoma       -0.307650000     0.0023334524         2              \n",
       "36 Oregon          0.091200000     0.0052848841         3              \n",
       "37 Pennsylvania    0.035333333     0.0116052790         9              \n",
       "38 South Carolina -0.065100000     0.0305768976         4              \n",
       "39 South Dakota   -0.207300000     0.0280014285         2              \n",
       "40 Tennessee      -0.145666667     0.0110183181         3              \n",
       "41 Texas          -0.095200000     0.0038807216         4              \n",
       "42 Utah           -0.063800000     0.0053740115         2              \n",
       "43 Vermont         0.248700000              NaN         1              \n",
       "44 Virginia        0.049240000     0.0183777855         5              \n",
       "45 Washington      0.101260000     0.0330086049         5              \n",
       "46 West Virginia  -0.237833333     0.0004725816         3              \n",
       "47 Wisconsin       0.071066667     0.0104145411         6              \n",
       "   electoral_votes\n",
       "1   9             \n",
       "2  11             \n",
       "3   6             \n",
       "4  55             \n",
       "5   9             \n",
       "6   7             \n",
       "7   3             \n",
       "8  29             \n",
       "9  16             \n",
       "10  4             \n",
       "11  4             \n",
       "12 20             \n",
       "13 11             \n",
       "14  6             \n",
       "15  6             \n",
       "16  8             \n",
       "17  8             \n",
       "18  4             \n",
       "19 10             \n",
       "20 11             \n",
       "21 16             \n",
       "22 10             \n",
       "23  6             \n",
       "24 10             \n",
       "25  3             \n",
       "26  5             \n",
       "27  6             \n",
       "28  4             \n",
       "29 14             \n",
       "30  5             \n",
       "31 29             \n",
       "32 15             \n",
       "33  3             \n",
       "34 18             \n",
       "35  7             \n",
       "36  7             \n",
       "37 20             \n",
       "38  9             \n",
       "39  3             \n",
       "40 11             \n",
       "41 38             \n",
       "42  6             \n",
       "43  3             \n",
       "44 13             \n",
       "45 12             \n",
       "46  5             \n",
       "47 10             "
      ]
     },
     "metadata": {},
     "output_type": "display_data"
    }
   ],
   "source": [
    "polls = left_join(polls, select(results_us_election_2016, state, electoral_votes), by = \"state\")\n",
    "polls"
   ]
  },
  {
   "cell_type": "markdown",
   "metadata": {},
   "source": [
    "Il faut remarquer que certains états n'ont pas de sondages du tout. C'est le cas District of Columbia et Rhode Island (traditionnellement Démocrates) et l'Alsaka et le Wyoming (Républicains). Ces petits états (en nombre d'habitants en tout cas) sont tellement orientés d'un côté ou de l'autre que moins de sondages y sont menés. On contournera le problème en attribuant directement 7 votes à Clinton, et 6 à Trump.  \n",
    "    \n",
    "Lorsque l'on n'a qu'un seul sondage, on ne peut pas estimer la variance, on remplace donc la valeur manquante par la médiane des variances :"
   ]
  },
  {
   "cell_type": "code",
   "execution_count": 33,
   "metadata": {},
   "outputs": [],
   "source": [
    "#On remplace les Na par la valeur médiane\n",
    "polls$sigma_sondages_etat[is.na(polls$sigma_sondages_etat)] = median(polls$sigma_sondages_etat, na.rm=TRUE)"
   ]
  },
  {
   "cell_type": "markdown",
   "metadata": {},
   "source": [
    "Cette fois-ci on a besoin de paramètres un peu différents car on se place au niveau des votes des Etats, et non au niveau des votes nationaux.  \n",
    "Ainsi le biais général entre les sondages et le résultat est un peu plus grand, donc on pose $\\sigma_{B} = 0.03$.  \n",
    "Par contre, au sein d'un même état, les résultats varient un peu moins qu'au niveau national, donc on pose $\\sigma_{prior} = 0.02$  \n",
    "  \n",
    "On effectue une simulation de Monte Carlo, avec 10000 itérations. À chacune d'elles, on va tirer un résultat pour chaque état, en prenant en compte notre a priori et les sondages disponibles dans cet état.  \n",
    "L'avantage de cette simulation, c'est qu'elle prend en compte une grande partie des scénarii possibles, et nous rend une moyenne générale de ce qui devrait arriver le jour de l'élection."
   ]
  },
  {
   "cell_type": "code",
   "execution_count": 34,
   "metadata": {},
   "outputs": [],
   "source": [
    "#Paramètres de l'a priori\n",
    "mu_prior = 0\n",
    "sigma_prior = 0.020\n",
    "\n",
    "#Paramètre du modèle, commun à tous les sondages\n",
    "sigma_B = 0.030\n",
    "\n",
    "N = 10000\n",
    "votes_democrates = replicate( N , {\n",
    "  polls %>% mutate(sigma_modèle = sqrt(sigma_sondages_etat^2/nb_sondages_etat + sigma_B^2),\n",
    "                     \n",
    "                   C = sigma_modèle^2 / (sigma_modèle^2 + sigma_prior^2),\n",
    "                     mu_posterior = C*mu_prior + (1-C)*mu_sondages_etat,\n",
    "                     sigma_posterior = sqrt( 1/ (1/sigma_modèle^2 + 1/sigma_prior^2)),\n",
    "                     ecart_final_etat = rnorm(nrow(polls), mu_posterior, sigma_posterior),\n",
    "                     votes_democrates = ifelse(ecart_final_etat>0, electoral_votes, 0)) %>% \n",
    "    \n",
    "    summarize(votes_democrates = sum(votes_democrates) + 7) %>% #+7 a cause de DC et Rhode Island\n",
    "    pull(votes_democrates)\n",
    "})"
   ]
  },
  {
   "cell_type": "markdown",
   "metadata": {},
   "source": [
    "Comme il faut 270 votes ou plus pour gagner (il y a 538 grands électeurs en tout), on peut ensuite recenser le nombre de fois où la simulation de MonteCarlo attribue 270 votes ou plus aux Démocrates, et ainsi obtenir une estimation de la probabilité de gagner pour Mme Clinton."
   ]
  },
  {
   "cell_type": "code",
   "execution_count": 35,
   "metadata": {},
   "outputs": [
    {
     "data": {
      "text/html": [
       "0.8383"
      ],
      "text/latex": [
       "0.8383"
      ],
      "text/markdown": [
       "0.8383"
      ],
      "text/plain": [
       "[1] 0.8383"
      ]
     },
     "metadata": {},
     "output_type": "display_data"
    }
   ],
   "source": [
    "mean(votes_democrates >= 270)"
   ]
  },
  {
   "cell_type": "markdown",
   "metadata": {},
   "source": [
    "On obtient donc une prédiction de 84% de chance de victoire pour les Démocrates."
   ]
  },
  {
   "cell_type": "markdown",
   "metadata": {},
   "source": [
    "# Modèle enrichi avec des a priori d'autres états :"
   ]
  },
  {
   "cell_type": "markdown",
   "metadata": {},
   "source": [
    "On remarque que beaucoup d'états ont très peu de sondages, et donc la variabilité peut-être forte.  \n",
    "On va enrichir notre modèle avec des a priori qui reprennent les sondages d'états similaires, afin de pallier le manque de données.  \n",
    "Pour cela on reprend la classification suivante, énoncée dans notre article :"
   ]
  },
  {
   "cell_type": "markdown",
   "metadata": {},
   "source": [
    "\n",
    "![Etats, avec leur orientation politique et groupe de rattachement.](states_prior_map.png)"
   ]
  },
  {
   "cell_type": "markdown",
   "metadata": {},
   "source": [
    "#### South Red"
   ]
  },
  {
   "cell_type": "code",
   "execution_count": 36,
   "metadata": {},
   "outputs": [],
   "source": [
    "south_red = c(\"Arizona\", \"Utah\", \"Indiana\", \"Oklahoma\", \"Arkansas\", \"Louisiana\",\n",
    "              \"Florida\", \"Missouri\", \"Georgia\", \"Tennessee\", \"Kentucky\", \"West Virginia\",\n",
    "              \"South Carolina\", \"Alabama\", \"Mississippi\", \"Texas\")"
   ]
  },
  {
   "cell_type": "code",
   "execution_count": 37,
   "metadata": {},
   "outputs": [],
   "source": [
    "mu_prior_south_red = filter(polls, state=='Texas')$mu_sondages_etat\n",
    "sigma_prior_south_red = filter(polls, state=='Texas')$sigma_sondages_etat"
   ]
  },
  {
   "cell_type": "markdown",
   "metadata": {},
   "source": [
    "#### North Red"
   ]
  },
  {
   "cell_type": "code",
   "execution_count": 38,
   "metadata": {},
   "outputs": [],
   "source": [
    "north_red = c(\"Idaho\", \"Montana\", \"North Dakota\", \"South Dakota\", \"Wyoming\",\n",
    "              \"Nebraska\", \"Kansas\", \"Alaska\")"
   ]
  },
  {
   "cell_type": "code",
   "execution_count": 39,
   "metadata": {},
   "outputs": [],
   "source": [
    "mu_prior_north_red = filter(polls, state=='Nebraska')$mu_sondages_etat\n",
    "sigma_prior_north_red = filter(polls, state=='Nebraska')$sigma_sondages_etat"
   ]
  },
  {
   "cell_type": "markdown",
   "metadata": {},
   "source": [
    "#### West Blue"
   ]
  },
  {
   "cell_type": "code",
   "execution_count": 40,
   "metadata": {},
   "outputs": [],
   "source": [
    "west_blue = c(\"Washington\", \"Oregon\", \"California\", \"New Mexico\", \"Hawaii\")"
   ]
  },
  {
   "cell_type": "code",
   "execution_count": 41,
   "metadata": {},
   "outputs": [],
   "source": [
    "mu_prior_west_blue = filter(polls, state=='California')$mu_sondages_etat\n",
    "sigma_prior_west_blue = filter(polls, state=='California')$sigma_sondages_etat"
   ]
  },
  {
   "cell_type": "markdown",
   "metadata": {},
   "source": [
    "#### East Blue"
   ]
  },
  {
   "cell_type": "code",
   "execution_count": 42,
   "metadata": {},
   "outputs": [],
   "source": [
    "east_blue = c(\"Minnesota\", \"Illinois\", \"New York\", \"Maryland\", \"District of Columbia\",\n",
    "              \"Delaware\", \"New Jersey\", \"Massachusetts\", \"Rhode Island\", \"Connecticut\",\n",
    "              \"Maine\", \"Vermont\")"
   ]
  },
  {
   "cell_type": "code",
   "execution_count": 43,
   "metadata": {},
   "outputs": [],
   "source": [
    "mu_prior_east_blue = filter(polls, state=='New York')$mu_sondages_etat\n",
    "sigma_prior_east_blue = filter(polls, state=='New York')$sigma_sondages_etat"
   ]
  },
  {
   "cell_type": "markdown",
   "metadata": {},
   "source": [
    "#### Swing States"
   ]
  },
  {
   "cell_type": "code",
   "execution_count": 44,
   "metadata": {},
   "outputs": [],
   "source": [
    "swings = c(\"Nevada\", \"Colorado\", \"New Hampshire\", \"North Carolina\", \"Virginia\", \"Ohio\",\n",
    "                  \"Michigan\", \"Iowa\", \"Wisconsin\", \"Pennsylvania\")"
   ]
  },
  {
   "cell_type": "code",
   "execution_count": 45,
   "metadata": {},
   "outputs": [],
   "source": [
    "mu_prior_swings = 0\n",
    "sigma_prior_swings = 0.020"
   ]
  },
  {
   "cell_type": "markdown",
   "metadata": {},
   "source": [
    "#### Ajout des prior dans le dataframe polls"
   ]
  },
  {
   "cell_type": "code",
   "execution_count": 46,
   "metadata": {},
   "outputs": [],
   "source": [
    "polls$group = rep(0, nrow(polls))\n",
    "polls$mu_prior_state = rep(0, nrow(polls))\n",
    "polls$sigma_prior_state = rep(0, nrow(polls))\n",
    "\n",
    "for (i in seq(1, nrow(polls))){\n",
    "    if (polls$state[i] %in% swings){\n",
    "        polls$group[i] = 'swings'\n",
    "        polls$mu_prior_state[i] = mu_prior_swings\n",
    "        polls$sigma_prior_state[i] = sigma_prior_swings\n",
    "    }\n",
    "    if (polls$state[i] %in% north_red){\n",
    "        polls$group[i] = 'north_red'\n",
    "        polls$mu_prior_state[i] = mu_prior_north_red\n",
    "        polls$sigma_prior_state[i] = sigma_prior_north_red\n",
    "    }\n",
    "    if (polls$state[i] %in% south_red){\n",
    "        polls$group[i] = 'south_red'\n",
    "        polls$mu_prior_state[i] = mu_prior_south_red\n",
    "        polls$sigma_prior_state[i] = sigma_prior_south_red\n",
    "    }\n",
    "    if (polls$state[i] %in% east_blue){\n",
    "        polls$group[i] = 'east_blue'\n",
    "        polls$mu_prior_state[i] = mu_prior_east_blue\n",
    "        polls$sigma_prior_state[i] = sigma_prior_east_blue\n",
    "    }\n",
    "    if (polls$state[i] %in% west_blue){\n",
    "        polls$group[i] = 'west_blue'\n",
    "        polls$mu_prior_state[i] = mu_prior_west_blue\n",
    "        polls$sigma_prior_state[i] = sigma_prior_west_blue\n",
    "    }\n",
    "}"
   ]
  },
  {
   "cell_type": "markdown",
   "metadata": {},
   "source": [
    "On peut voir que l'ajout des a priori donne initialement une bonne avance pour Clinton."
   ]
  },
  {
   "cell_type": "code",
   "execution_count": 47,
   "metadata": {},
   "outputs": [
    {
     "data": {
      "text/html": [
       "0.3305"
      ],
      "text/latex": [
       "0.3305"
      ],
      "text/markdown": [
       "0.3305"
      ],
      "text/plain": [
       "[1] 0.3305"
      ]
     },
     "metadata": {},
     "output_type": "display_data"
    }
   ],
   "source": [
    "sum(polls$mu_prior_state)"
   ]
  },
  {
   "cell_type": "code",
   "execution_count": 48,
   "metadata": {},
   "outputs": [
    {
     "data": {
      "text/html": [
       "<table>\n",
       "<thead><tr><th scope=col>state</th><th scope=col>mu_sondages_etat</th><th scope=col>sigma_sondages_etat</th><th scope=col>nb_sondages_etat</th><th scope=col>electoral_votes</th><th scope=col>group</th><th scope=col>mu_prior_state</th><th scope=col>sigma_prior_state</th></tr></thead>\n",
       "<tbody>\n",
       "\t<tr><td>Alabama       </td><td>-0.149433333  </td><td>0.0253279161  </td><td> 3            </td><td> 9            </td><td>south_red     </td><td>-0.0952       </td><td>0.003880722   </td></tr>\n",
       "\t<tr><td>Arizona       </td><td>-0.032644444  </td><td>0.0269547357  </td><td> 9            </td><td>11            </td><td>south_red     </td><td>-0.0952       </td><td>0.003880722   </td></tr>\n",
       "\t<tr><td>Arkansas      </td><td>-0.151400000  </td><td>0.0009899495  </td><td> 2            </td><td> 6            </td><td>south_red     </td><td>-0.0952       </td><td>0.003880722   </td></tr>\n",
       "\t<tr><td>California    </td><td> 0.260100000  </td><td>0.0387329317  </td><td> 5            </td><td>55            </td><td>west_blue     </td><td> 0.2601       </td><td>0.038732932   </td></tr>\n",
       "\t<tr><td>Colorado      </td><td> 0.045200000  </td><td>0.0294593505  </td><td> 7            </td><td> 9            </td><td>swings        </td><td> 0.0000       </td><td>0.020000000   </td></tr>\n",
       "\t<tr><td>Connecticut   </td><td> 0.078033333  </td><td>0.0210984202  </td><td> 3            </td><td> 7            </td><td>east_blue     </td><td> 0.1842       </td><td>0.027211885   </td></tr>\n",
       "\t<tr><td>Delaware      </td><td> 0.132400000  </td><td>0.0335168614  </td><td> 2            </td><td> 3            </td><td>east_blue     </td><td> 0.1842       </td><td>0.027211885   </td></tr>\n",
       "\t<tr><td>Florida       </td><td> 0.003557143  </td><td>0.0163496032  </td><td> 7            </td><td>29            </td><td>south_red     </td><td>-0.0952       </td><td>0.003880722   </td></tr>\n",
       "\t<tr><td>Georgia       </td><td>-0.044850000  </td><td>0.0238115518  </td><td> 4            </td><td>16            </td><td>south_red     </td><td>-0.0952       </td><td>0.003880722   </td></tr>\n",
       "\t<tr><td>Hawaii        </td><td> 0.185600000  </td><td>0.0209719017  </td><td> 1            </td><td> 4            </td><td>west_blue     </td><td> 0.2601       </td><td>0.038732932   </td></tr>\n",
       "\t<tr><td>Idaho         </td><td>-0.224550000  </td><td>0.0105358910  </td><td> 2            </td><td> 4            </td><td>north_red     </td><td>-0.2148       </td><td>0.003843176   </td></tr>\n",
       "\t<tr><td>Illinois      </td><td> 0.119400000  </td><td>0.0098045908  </td><td> 3            </td><td>20            </td><td>east_blue     </td><td> 0.1842       </td><td>0.027211885   </td></tr>\n",
       "\t<tr><td>Indiana       </td><td>-0.159366667  </td><td>0.0111073549  </td><td> 3            </td><td>11            </td><td>south_red     </td><td>-0.0952       </td><td>0.003880722   </td></tr>\n",
       "\t<tr><td>Iowa          </td><td>-0.019733333  </td><td>0.0436647837  </td><td> 3            </td><td> 6            </td><td>swings        </td><td> 0.0000       </td><td>0.020000000   </td></tr>\n",
       "\t<tr><td>Kansas        </td><td>-0.156850000  </td><td>0.0077074639  </td><td> 2            </td><td> 6            </td><td>north_red     </td><td>-0.2148       </td><td>0.003843176   </td></tr>\n",
       "\t<tr><td>Kentucky      </td><td>-0.236500000  </td><td>0.0311583055  </td><td> 3            </td><td> 8            </td><td>south_red     </td><td>-0.0952       </td><td>0.003880722   </td></tr>\n",
       "\t<tr><td>Louisiana     </td><td>-0.164050000  </td><td>0.0136471609  </td><td> 2            </td><td> 8            </td><td>south_red     </td><td>-0.0952       </td><td>0.003880722   </td></tr>\n",
       "\t<tr><td>Maine         </td><td> 0.077450000  </td><td>0.0070003571  </td><td> 2            </td><td> 4            </td><td>east_blue     </td><td> 0.1842       </td><td>0.027211885   </td></tr>\n",
       "\t<tr><td>Maryland      </td><td> 0.197300000  </td><td>0.0208453832  </td><td> 3            </td><td>10            </td><td>east_blue     </td><td> 0.1842       </td><td>0.027211885   </td></tr>\n",
       "\t<tr><td>Massachusetts </td><td> 0.201575000  </td><td>0.0660505551  </td><td> 4            </td><td>11            </td><td>east_blue     </td><td> 0.1842       </td><td>0.027211885   </td></tr>\n",
       "\t<tr><td>Michigan      </td><td> 0.020950000  </td><td>0.0202606762  </td><td> 6            </td><td>16            </td><td>swings        </td><td> 0.0000       </td><td>0.020000000   </td></tr>\n",
       "\t<tr><td>Minnesota     </td><td> 0.060500000  </td><td>0.0163477827  </td><td> 3            </td><td>10            </td><td>east_blue     </td><td> 0.1842       </td><td>0.027211885   </td></tr>\n",
       "\t<tr><td>Mississippi   </td><td>-0.204066667  </td><td>0.0391203698  </td><td> 3            </td><td> 6            </td><td>south_red     </td><td>-0.0952       </td><td>0.003880722   </td></tr>\n",
       "\t<tr><td>Missouri      </td><td>-0.104983333  </td><td>0.0324377815  </td><td> 6            </td><td>10            </td><td>south_red     </td><td>-0.0952       </td><td>0.003880722   </td></tr>\n",
       "\t<tr><td>Montana       </td><td>-0.184800000  </td><td>0.0060811183  </td><td> 2            </td><td> 3            </td><td>north_red     </td><td>-0.2148       </td><td>0.003843176   </td></tr>\n",
       "\t<tr><td>Nebraska      </td><td>-0.214800000  </td><td>0.0038431758  </td><td> 3            </td><td> 5            </td><td>north_red     </td><td>-0.2148       </td><td>0.003843176   </td></tr>\n",
       "\t<tr><td>Nevada        </td><td> 0.016857143  </td><td>0.0440680858  </td><td> 7            </td><td> 6            </td><td>swings        </td><td> 0.0000       </td><td>0.020000000   </td></tr>\n",
       "\t<tr><td>New Hampshire </td><td> 0.056416667  </td><td>0.0359483679  </td><td>12            </td><td> 4            </td><td>swings        </td><td> 0.0000       </td><td>0.020000000   </td></tr>\n",
       "\t<tr><td>New Jersey    </td><td> 0.109166667  </td><td>0.0234000712  </td><td> 3            </td><td>14            </td><td>east_blue     </td><td> 0.1842       </td><td>0.027211885   </td></tr>\n",
       "\t<tr><td>New Mexico    </td><td> 0.038933333  </td><td>0.0225518661  </td><td> 6            </td><td> 5            </td><td>west_blue     </td><td> 0.2601       </td><td>0.038732932   </td></tr>\n",
       "\t<tr><td>New York      </td><td> 0.184200000  </td><td>0.0272118847  </td><td> 4            </td><td>29            </td><td>east_blue     </td><td> 0.1842       </td><td>0.027211885   </td></tr>\n",
       "\t<tr><td>North Carolina</td><td>-0.007300000  </td><td>0.0306208262  </td><td> 9            </td><td>15            </td><td>swings        </td><td> 0.0000       </td><td>0.020000000   </td></tr>\n",
       "\t<tr><td>North Dakota  </td><td>-0.235600000  </td><td>0.0209719017  </td><td> 1            </td><td> 3            </td><td>north_red     </td><td>-0.2148       </td><td>0.003843176   </td></tr>\n",
       "\t<tr><td>Ohio          </td><td>-0.010416667  </td><td>0.0252247828  </td><td> 6            </td><td>18            </td><td>swings        </td><td> 0.0000       </td><td>0.020000000   </td></tr>\n",
       "\t<tr><td>Oklahoma      </td><td>-0.307650000  </td><td>0.0023334524  </td><td> 2            </td><td> 7            </td><td>south_red     </td><td>-0.0952       </td><td>0.003880722   </td></tr>\n",
       "\t<tr><td>Oregon        </td><td> 0.091200000  </td><td>0.0052848841  </td><td> 3            </td><td> 7            </td><td>west_blue     </td><td> 0.2601       </td><td>0.038732932   </td></tr>\n",
       "\t<tr><td>Pennsylvania  </td><td> 0.035333333  </td><td>0.0116052790  </td><td> 9            </td><td>20            </td><td>swings        </td><td> 0.0000       </td><td>0.020000000   </td></tr>\n",
       "\t<tr><td>South Carolina</td><td>-0.065100000  </td><td>0.0305768976  </td><td> 4            </td><td> 9            </td><td>south_red     </td><td>-0.0952       </td><td>0.003880722   </td></tr>\n",
       "\t<tr><td>South Dakota  </td><td>-0.207300000  </td><td>0.0280014285  </td><td> 2            </td><td> 3            </td><td>north_red     </td><td>-0.2148       </td><td>0.003843176   </td></tr>\n",
       "\t<tr><td>Tennessee     </td><td>-0.145666667  </td><td>0.0110183181  </td><td> 3            </td><td>11            </td><td>south_red     </td><td>-0.0952       </td><td>0.003880722   </td></tr>\n",
       "\t<tr><td>Texas         </td><td>-0.095200000  </td><td>0.0038807216  </td><td> 4            </td><td>38            </td><td>south_red     </td><td>-0.0952       </td><td>0.003880722   </td></tr>\n",
       "\t<tr><td>Utah          </td><td>-0.063800000  </td><td>0.0053740115  </td><td> 2            </td><td> 6            </td><td>south_red     </td><td>-0.0952       </td><td>0.003880722   </td></tr>\n",
       "\t<tr><td>Vermont       </td><td> 0.248700000  </td><td>0.0209719017  </td><td> 1            </td><td> 3            </td><td>east_blue     </td><td> 0.1842       </td><td>0.027211885   </td></tr>\n",
       "\t<tr><td>Virginia      </td><td> 0.049240000  </td><td>0.0183777855  </td><td> 5            </td><td>13            </td><td>swings        </td><td> 0.0000       </td><td>0.020000000   </td></tr>\n",
       "\t<tr><td>Washington    </td><td> 0.101260000  </td><td>0.0330086049  </td><td> 5            </td><td>12            </td><td>west_blue     </td><td> 0.2601       </td><td>0.038732932   </td></tr>\n",
       "\t<tr><td>West Virginia </td><td>-0.237833333  </td><td>0.0004725816  </td><td> 3            </td><td> 5            </td><td>south_red     </td><td>-0.0952       </td><td>0.003880722   </td></tr>\n",
       "\t<tr><td>Wisconsin     </td><td> 0.071066667  </td><td>0.0104145411  </td><td> 6            </td><td>10            </td><td>swings        </td><td> 0.0000       </td><td>0.020000000   </td></tr>\n",
       "</tbody>\n",
       "</table>\n"
      ],
      "text/latex": [
       "\\begin{tabular}{r|llllllll}\n",
       " state & mu\\_sondages\\_etat & sigma\\_sondages\\_etat & nb\\_sondages\\_etat & electoral\\_votes & group & mu\\_prior\\_state & sigma\\_prior\\_state\\\\\n",
       "\\hline\n",
       "\t Alabama        & -0.149433333   & 0.0253279161   &  3             &  9             & south\\_red    & -0.0952        & 0.003880722   \\\\\n",
       "\t Arizona        & -0.032644444   & 0.0269547357   &  9             & 11             & south\\_red    & -0.0952        & 0.003880722   \\\\\n",
       "\t Arkansas       & -0.151400000   & 0.0009899495   &  2             &  6             & south\\_red    & -0.0952        & 0.003880722   \\\\\n",
       "\t California     &  0.260100000   & 0.0387329317   &  5             & 55             & west\\_blue    &  0.2601        & 0.038732932   \\\\\n",
       "\t Colorado       &  0.045200000   & 0.0294593505   &  7             &  9             & swings         &  0.0000        & 0.020000000   \\\\\n",
       "\t Connecticut    &  0.078033333   & 0.0210984202   &  3             &  7             & east\\_blue    &  0.1842        & 0.027211885   \\\\\n",
       "\t Delaware       &  0.132400000   & 0.0335168614   &  2             &  3             & east\\_blue    &  0.1842        & 0.027211885   \\\\\n",
       "\t Florida        &  0.003557143   & 0.0163496032   &  7             & 29             & south\\_red    & -0.0952        & 0.003880722   \\\\\n",
       "\t Georgia        & -0.044850000   & 0.0238115518   &  4             & 16             & south\\_red    & -0.0952        & 0.003880722   \\\\\n",
       "\t Hawaii         &  0.185600000   & 0.0209719017   &  1             &  4             & west\\_blue    &  0.2601        & 0.038732932   \\\\\n",
       "\t Idaho          & -0.224550000   & 0.0105358910   &  2             &  4             & north\\_red    & -0.2148        & 0.003843176   \\\\\n",
       "\t Illinois       &  0.119400000   & 0.0098045908   &  3             & 20             & east\\_blue    &  0.1842        & 0.027211885   \\\\\n",
       "\t Indiana        & -0.159366667   & 0.0111073549   &  3             & 11             & south\\_red    & -0.0952        & 0.003880722   \\\\\n",
       "\t Iowa           & -0.019733333   & 0.0436647837   &  3             &  6             & swings         &  0.0000        & 0.020000000   \\\\\n",
       "\t Kansas         & -0.156850000   & 0.0077074639   &  2             &  6             & north\\_red    & -0.2148        & 0.003843176   \\\\\n",
       "\t Kentucky       & -0.236500000   & 0.0311583055   &  3             &  8             & south\\_red    & -0.0952        & 0.003880722   \\\\\n",
       "\t Louisiana      & -0.164050000   & 0.0136471609   &  2             &  8             & south\\_red    & -0.0952        & 0.003880722   \\\\\n",
       "\t Maine          &  0.077450000   & 0.0070003571   &  2             &  4             & east\\_blue    &  0.1842        & 0.027211885   \\\\\n",
       "\t Maryland       &  0.197300000   & 0.0208453832   &  3             & 10             & east\\_blue    &  0.1842        & 0.027211885   \\\\\n",
       "\t Massachusetts  &  0.201575000   & 0.0660505551   &  4             & 11             & east\\_blue    &  0.1842        & 0.027211885   \\\\\n",
       "\t Michigan       &  0.020950000   & 0.0202606762   &  6             & 16             & swings         &  0.0000        & 0.020000000   \\\\\n",
       "\t Minnesota      &  0.060500000   & 0.0163477827   &  3             & 10             & east\\_blue    &  0.1842        & 0.027211885   \\\\\n",
       "\t Mississippi    & -0.204066667   & 0.0391203698   &  3             &  6             & south\\_red    & -0.0952        & 0.003880722   \\\\\n",
       "\t Missouri       & -0.104983333   & 0.0324377815   &  6             & 10             & south\\_red    & -0.0952        & 0.003880722   \\\\\n",
       "\t Montana        & -0.184800000   & 0.0060811183   &  2             &  3             & north\\_red    & -0.2148        & 0.003843176   \\\\\n",
       "\t Nebraska       & -0.214800000   & 0.0038431758   &  3             &  5             & north\\_red    & -0.2148        & 0.003843176   \\\\\n",
       "\t Nevada         &  0.016857143   & 0.0440680858   &  7             &  6             & swings         &  0.0000        & 0.020000000   \\\\\n",
       "\t New Hampshire  &  0.056416667   & 0.0359483679   & 12             &  4             & swings         &  0.0000        & 0.020000000   \\\\\n",
       "\t New Jersey     &  0.109166667   & 0.0234000712   &  3             & 14             & east\\_blue    &  0.1842        & 0.027211885   \\\\\n",
       "\t New Mexico     &  0.038933333   & 0.0225518661   &  6             &  5             & west\\_blue    &  0.2601        & 0.038732932   \\\\\n",
       "\t New York       &  0.184200000   & 0.0272118847   &  4             & 29             & east\\_blue    &  0.1842        & 0.027211885   \\\\\n",
       "\t North Carolina & -0.007300000   & 0.0306208262   &  9             & 15             & swings         &  0.0000        & 0.020000000   \\\\\n",
       "\t North Dakota   & -0.235600000   & 0.0209719017   &  1             &  3             & north\\_red    & -0.2148        & 0.003843176   \\\\\n",
       "\t Ohio           & -0.010416667   & 0.0252247828   &  6             & 18             & swings         &  0.0000        & 0.020000000   \\\\\n",
       "\t Oklahoma       & -0.307650000   & 0.0023334524   &  2             &  7             & south\\_red    & -0.0952        & 0.003880722   \\\\\n",
       "\t Oregon         &  0.091200000   & 0.0052848841   &  3             &  7             & west\\_blue    &  0.2601        & 0.038732932   \\\\\n",
       "\t Pennsylvania   &  0.035333333   & 0.0116052790   &  9             & 20             & swings         &  0.0000        & 0.020000000   \\\\\n",
       "\t South Carolina & -0.065100000   & 0.0305768976   &  4             &  9             & south\\_red    & -0.0952        & 0.003880722   \\\\\n",
       "\t South Dakota   & -0.207300000   & 0.0280014285   &  2             &  3             & north\\_red    & -0.2148        & 0.003843176   \\\\\n",
       "\t Tennessee      & -0.145666667   & 0.0110183181   &  3             & 11             & south\\_red    & -0.0952        & 0.003880722   \\\\\n",
       "\t Texas          & -0.095200000   & 0.0038807216   &  4             & 38             & south\\_red    & -0.0952        & 0.003880722   \\\\\n",
       "\t Utah           & -0.063800000   & 0.0053740115   &  2             &  6             & south\\_red    & -0.0952        & 0.003880722   \\\\\n",
       "\t Vermont        &  0.248700000   & 0.0209719017   &  1             &  3             & east\\_blue    &  0.1842        & 0.027211885   \\\\\n",
       "\t Virginia       &  0.049240000   & 0.0183777855   &  5             & 13             & swings         &  0.0000        & 0.020000000   \\\\\n",
       "\t Washington     &  0.101260000   & 0.0330086049   &  5             & 12             & west\\_blue    &  0.2601        & 0.038732932   \\\\\n",
       "\t West Virginia  & -0.237833333   & 0.0004725816   &  3             &  5             & south\\_red    & -0.0952        & 0.003880722   \\\\\n",
       "\t Wisconsin      &  0.071066667   & 0.0104145411   &  6             & 10             & swings         &  0.0000        & 0.020000000   \\\\\n",
       "\\end{tabular}\n"
      ],
      "text/markdown": [
       "\n",
       "| state | mu_sondages_etat | sigma_sondages_etat | nb_sondages_etat | electoral_votes | group | mu_prior_state | sigma_prior_state |\n",
       "|---|---|---|---|---|---|---|---|\n",
       "| Alabama        | -0.149433333   | 0.0253279161   |  3             |  9             | south_red      | -0.0952        | 0.003880722    |\n",
       "| Arizona        | -0.032644444   | 0.0269547357   |  9             | 11             | south_red      | -0.0952        | 0.003880722    |\n",
       "| Arkansas       | -0.151400000   | 0.0009899495   |  2             |  6             | south_red      | -0.0952        | 0.003880722    |\n",
       "| California     |  0.260100000   | 0.0387329317   |  5             | 55             | west_blue      |  0.2601        | 0.038732932    |\n",
       "| Colorado       |  0.045200000   | 0.0294593505   |  7             |  9             | swings         |  0.0000        | 0.020000000    |\n",
       "| Connecticut    |  0.078033333   | 0.0210984202   |  3             |  7             | east_blue      |  0.1842        | 0.027211885    |\n",
       "| Delaware       |  0.132400000   | 0.0335168614   |  2             |  3             | east_blue      |  0.1842        | 0.027211885    |\n",
       "| Florida        |  0.003557143   | 0.0163496032   |  7             | 29             | south_red      | -0.0952        | 0.003880722    |\n",
       "| Georgia        | -0.044850000   | 0.0238115518   |  4             | 16             | south_red      | -0.0952        | 0.003880722    |\n",
       "| Hawaii         |  0.185600000   | 0.0209719017   |  1             |  4             | west_blue      |  0.2601        | 0.038732932    |\n",
       "| Idaho          | -0.224550000   | 0.0105358910   |  2             |  4             | north_red      | -0.2148        | 0.003843176    |\n",
       "| Illinois       |  0.119400000   | 0.0098045908   |  3             | 20             | east_blue      |  0.1842        | 0.027211885    |\n",
       "| Indiana        | -0.159366667   | 0.0111073549   |  3             | 11             | south_red      | -0.0952        | 0.003880722    |\n",
       "| Iowa           | -0.019733333   | 0.0436647837   |  3             |  6             | swings         |  0.0000        | 0.020000000    |\n",
       "| Kansas         | -0.156850000   | 0.0077074639   |  2             |  6             | north_red      | -0.2148        | 0.003843176    |\n",
       "| Kentucky       | -0.236500000   | 0.0311583055   |  3             |  8             | south_red      | -0.0952        | 0.003880722    |\n",
       "| Louisiana      | -0.164050000   | 0.0136471609   |  2             |  8             | south_red      | -0.0952        | 0.003880722    |\n",
       "| Maine          |  0.077450000   | 0.0070003571   |  2             |  4             | east_blue      |  0.1842        | 0.027211885    |\n",
       "| Maryland       |  0.197300000   | 0.0208453832   |  3             | 10             | east_blue      |  0.1842        | 0.027211885    |\n",
       "| Massachusetts  |  0.201575000   | 0.0660505551   |  4             | 11             | east_blue      |  0.1842        | 0.027211885    |\n",
       "| Michigan       |  0.020950000   | 0.0202606762   |  6             | 16             | swings         |  0.0000        | 0.020000000    |\n",
       "| Minnesota      |  0.060500000   | 0.0163477827   |  3             | 10             | east_blue      |  0.1842        | 0.027211885    |\n",
       "| Mississippi    | -0.204066667   | 0.0391203698   |  3             |  6             | south_red      | -0.0952        | 0.003880722    |\n",
       "| Missouri       | -0.104983333   | 0.0324377815   |  6             | 10             | south_red      | -0.0952        | 0.003880722    |\n",
       "| Montana        | -0.184800000   | 0.0060811183   |  2             |  3             | north_red      | -0.2148        | 0.003843176    |\n",
       "| Nebraska       | -0.214800000   | 0.0038431758   |  3             |  5             | north_red      | -0.2148        | 0.003843176    |\n",
       "| Nevada         |  0.016857143   | 0.0440680858   |  7             |  6             | swings         |  0.0000        | 0.020000000    |\n",
       "| New Hampshire  |  0.056416667   | 0.0359483679   | 12             |  4             | swings         |  0.0000        | 0.020000000    |\n",
       "| New Jersey     |  0.109166667   | 0.0234000712   |  3             | 14             | east_blue      |  0.1842        | 0.027211885    |\n",
       "| New Mexico     |  0.038933333   | 0.0225518661   |  6             |  5             | west_blue      |  0.2601        | 0.038732932    |\n",
       "| New York       |  0.184200000   | 0.0272118847   |  4             | 29             | east_blue      |  0.1842        | 0.027211885    |\n",
       "| North Carolina | -0.007300000   | 0.0306208262   |  9             | 15             | swings         |  0.0000        | 0.020000000    |\n",
       "| North Dakota   | -0.235600000   | 0.0209719017   |  1             |  3             | north_red      | -0.2148        | 0.003843176    |\n",
       "| Ohio           | -0.010416667   | 0.0252247828   |  6             | 18             | swings         |  0.0000        | 0.020000000    |\n",
       "| Oklahoma       | -0.307650000   | 0.0023334524   |  2             |  7             | south_red      | -0.0952        | 0.003880722    |\n",
       "| Oregon         |  0.091200000   | 0.0052848841   |  3             |  7             | west_blue      |  0.2601        | 0.038732932    |\n",
       "| Pennsylvania   |  0.035333333   | 0.0116052790   |  9             | 20             | swings         |  0.0000        | 0.020000000    |\n",
       "| South Carolina | -0.065100000   | 0.0305768976   |  4             |  9             | south_red      | -0.0952        | 0.003880722    |\n",
       "| South Dakota   | -0.207300000   | 0.0280014285   |  2             |  3             | north_red      | -0.2148        | 0.003843176    |\n",
       "| Tennessee      | -0.145666667   | 0.0110183181   |  3             | 11             | south_red      | -0.0952        | 0.003880722    |\n",
       "| Texas          | -0.095200000   | 0.0038807216   |  4             | 38             | south_red      | -0.0952        | 0.003880722    |\n",
       "| Utah           | -0.063800000   | 0.0053740115   |  2             |  6             | south_red      | -0.0952        | 0.003880722    |\n",
       "| Vermont        |  0.248700000   | 0.0209719017   |  1             |  3             | east_blue      |  0.1842        | 0.027211885    |\n",
       "| Virginia       |  0.049240000   | 0.0183777855   |  5             | 13             | swings         |  0.0000        | 0.020000000    |\n",
       "| Washington     |  0.101260000   | 0.0330086049   |  5             | 12             | west_blue      |  0.2601        | 0.038732932    |\n",
       "| West Virginia  | -0.237833333   | 0.0004725816   |  3             |  5             | south_red      | -0.0952        | 0.003880722    |\n",
       "| Wisconsin      |  0.071066667   | 0.0104145411   |  6             | 10             | swings         |  0.0000        | 0.020000000    |\n",
       "\n"
      ],
      "text/plain": [
       "   state          mu_sondages_etat sigma_sondages_etat nb_sondages_etat\n",
       "1  Alabama        -0.149433333     0.0253279161         3              \n",
       "2  Arizona        -0.032644444     0.0269547357         9              \n",
       "3  Arkansas       -0.151400000     0.0009899495         2              \n",
       "4  California      0.260100000     0.0387329317         5              \n",
       "5  Colorado        0.045200000     0.0294593505         7              \n",
       "6  Connecticut     0.078033333     0.0210984202         3              \n",
       "7  Delaware        0.132400000     0.0335168614         2              \n",
       "8  Florida         0.003557143     0.0163496032         7              \n",
       "9  Georgia        -0.044850000     0.0238115518         4              \n",
       "10 Hawaii          0.185600000     0.0209719017         1              \n",
       "11 Idaho          -0.224550000     0.0105358910         2              \n",
       "12 Illinois        0.119400000     0.0098045908         3              \n",
       "13 Indiana        -0.159366667     0.0111073549         3              \n",
       "14 Iowa           -0.019733333     0.0436647837         3              \n",
       "15 Kansas         -0.156850000     0.0077074639         2              \n",
       "16 Kentucky       -0.236500000     0.0311583055         3              \n",
       "17 Louisiana      -0.164050000     0.0136471609         2              \n",
       "18 Maine           0.077450000     0.0070003571         2              \n",
       "19 Maryland        0.197300000     0.0208453832         3              \n",
       "20 Massachusetts   0.201575000     0.0660505551         4              \n",
       "21 Michigan        0.020950000     0.0202606762         6              \n",
       "22 Minnesota       0.060500000     0.0163477827         3              \n",
       "23 Mississippi    -0.204066667     0.0391203698         3              \n",
       "24 Missouri       -0.104983333     0.0324377815         6              \n",
       "25 Montana        -0.184800000     0.0060811183         2              \n",
       "26 Nebraska       -0.214800000     0.0038431758         3              \n",
       "27 Nevada          0.016857143     0.0440680858         7              \n",
       "28 New Hampshire   0.056416667     0.0359483679        12              \n",
       "29 New Jersey      0.109166667     0.0234000712         3              \n",
       "30 New Mexico      0.038933333     0.0225518661         6              \n",
       "31 New York        0.184200000     0.0272118847         4              \n",
       "32 North Carolina -0.007300000     0.0306208262         9              \n",
       "33 North Dakota   -0.235600000     0.0209719017         1              \n",
       "34 Ohio           -0.010416667     0.0252247828         6              \n",
       "35 Oklahoma       -0.307650000     0.0023334524         2              \n",
       "36 Oregon          0.091200000     0.0052848841         3              \n",
       "37 Pennsylvania    0.035333333     0.0116052790         9              \n",
       "38 South Carolina -0.065100000     0.0305768976         4              \n",
       "39 South Dakota   -0.207300000     0.0280014285         2              \n",
       "40 Tennessee      -0.145666667     0.0110183181         3              \n",
       "41 Texas          -0.095200000     0.0038807216         4              \n",
       "42 Utah           -0.063800000     0.0053740115         2              \n",
       "43 Vermont         0.248700000     0.0209719017         1              \n",
       "44 Virginia        0.049240000     0.0183777855         5              \n",
       "45 Washington      0.101260000     0.0330086049         5              \n",
       "46 West Virginia  -0.237833333     0.0004725816         3              \n",
       "47 Wisconsin       0.071066667     0.0104145411         6              \n",
       "   electoral_votes group     mu_prior_state sigma_prior_state\n",
       "1   9              south_red -0.0952        0.003880722      \n",
       "2  11              south_red -0.0952        0.003880722      \n",
       "3   6              south_red -0.0952        0.003880722      \n",
       "4  55              west_blue  0.2601        0.038732932      \n",
       "5   9              swings     0.0000        0.020000000      \n",
       "6   7              east_blue  0.1842        0.027211885      \n",
       "7   3              east_blue  0.1842        0.027211885      \n",
       "8  29              south_red -0.0952        0.003880722      \n",
       "9  16              south_red -0.0952        0.003880722      \n",
       "10  4              west_blue  0.2601        0.038732932      \n",
       "11  4              north_red -0.2148        0.003843176      \n",
       "12 20              east_blue  0.1842        0.027211885      \n",
       "13 11              south_red -0.0952        0.003880722      \n",
       "14  6              swings     0.0000        0.020000000      \n",
       "15  6              north_red -0.2148        0.003843176      \n",
       "16  8              south_red -0.0952        0.003880722      \n",
       "17  8              south_red -0.0952        0.003880722      \n",
       "18  4              east_blue  0.1842        0.027211885      \n",
       "19 10              east_blue  0.1842        0.027211885      \n",
       "20 11              east_blue  0.1842        0.027211885      \n",
       "21 16              swings     0.0000        0.020000000      \n",
       "22 10              east_blue  0.1842        0.027211885      \n",
       "23  6              south_red -0.0952        0.003880722      \n",
       "24 10              south_red -0.0952        0.003880722      \n",
       "25  3              north_red -0.2148        0.003843176      \n",
       "26  5              north_red -0.2148        0.003843176      \n",
       "27  6              swings     0.0000        0.020000000      \n",
       "28  4              swings     0.0000        0.020000000      \n",
       "29 14              east_blue  0.1842        0.027211885      \n",
       "30  5              west_blue  0.2601        0.038732932      \n",
       "31 29              east_blue  0.1842        0.027211885      \n",
       "32 15              swings     0.0000        0.020000000      \n",
       "33  3              north_red -0.2148        0.003843176      \n",
       "34 18              swings     0.0000        0.020000000      \n",
       "35  7              south_red -0.0952        0.003880722      \n",
       "36  7              west_blue  0.2601        0.038732932      \n",
       "37 20              swings     0.0000        0.020000000      \n",
       "38  9              south_red -0.0952        0.003880722      \n",
       "39  3              north_red -0.2148        0.003843176      \n",
       "40 11              south_red -0.0952        0.003880722      \n",
       "41 38              south_red -0.0952        0.003880722      \n",
       "42  6              south_red -0.0952        0.003880722      \n",
       "43  3              east_blue  0.1842        0.027211885      \n",
       "44 13              swings     0.0000        0.020000000      \n",
       "45 12              west_blue  0.2601        0.038732932      \n",
       "46  5              south_red -0.0952        0.003880722      \n",
       "47 10              swings     0.0000        0.020000000      "
      ]
     },
     "metadata": {},
     "output_type": "display_data"
    }
   ],
   "source": [
    "polls"
   ]
  },
  {
   "cell_type": "code",
   "execution_count": 49,
   "metadata": {},
   "outputs": [],
   "source": [
    "#Paramètre du modèle, commun à tous les sondages\n",
    "sigma_B = 0.030\n",
    "\n",
    "N = 10000\n",
    "votes_democrates_avec_priori = replicate( N , {\n",
    "  polls %>% mutate(#Paramètres de l'a priori\n",
    "                    mu_prior = mu_prior_state,\n",
    "                    sigma_prior = sigma_prior_state,\n",
    "                    #Paramètres du modèle\n",
    "                    sigma_modèle = sqrt(sigma_sondages_etat^2/nb_sondages_etat + sigma_B^2),          \n",
    "                    #Calcul de l'a posteriori\n",
    "                    C = sigma_modèle^2 / (sigma_modèle^2 + sigma_prior^2),\n",
    "                    mu_posterior = C*mu_prior + (1-C)*mu_sondages_etat,\n",
    "                    sigma_posterior = sqrt( 1/ (1/sigma_modèle^2 + 1/sigma_prior^2)),\n",
    "                    ecart_final_etat = rnorm(nrow(polls), mu_posterior, sigma_posterior),\n",
    "                    votes_democrates = ifelse(ecart_final_etat>0, electoral_votes, 0)) %>% \n",
    "    summarize(votes_democrates = sum(votes_democrates) +7) %>% #+7 a cause de DC et Rhode Island\n",
    "    pull(votes_democrates)\n",
    "})"
   ]
  },
  {
   "cell_type": "code",
   "execution_count": 50,
   "metadata": {},
   "outputs": [
    {
     "data": {
      "text/html": [
       "0.6563"
      ],
      "text/latex": [
       "0.6563"
      ],
      "text/markdown": [
       "0.6563"
      ],
      "text/plain": [
       "[1] 0.6563"
      ]
     },
     "metadata": {},
     "output_type": "display_data"
    }
   ],
   "source": [
    "mean(votes_democrates_avec_priori >= 270)"
   ]
  },
  {
   "cell_type": "markdown",
   "metadata": {},
   "source": [
    "Notre nouveau modèle est donc bien plus proche de la réalité. On aboutit à une probabilité de 65% de victoire pour les Démocrates, contre 35% pour les Républicains.  \n",
    "L'ajout des a priori dans notre modèle a donc bien compensé le manque de données de certains états, et amélioré la justesse de nos prédictions."
   ]
  }
 ],
 "metadata": {
  "kernelspec": {
   "display_name": "R",
   "language": "R",
   "name": "ir"
  },
  "language_info": {
   "codemirror_mode": "r",
   "file_extension": ".r",
   "mimetype": "text/x-r-source",
   "name": "R",
   "pygments_lexer": "r",
   "version": "3.6.1"
  }
 },
 "nbformat": 4,
 "nbformat_minor": 2
}
